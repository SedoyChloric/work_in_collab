{
  "cells": [
    {
      "cell_type": "markdown",
      "metadata": {
        "id": "view-in-github",
        "colab_type": "text"
      },
      "source": [
        "<a href=\"https://colab.research.google.com/github/SedoyChloric/work_in_collab/blob/main/SVR_QSPR.ipynb\" target=\"_parent\"><img src=\"https://colab.research.google.com/assets/colab-badge.svg\" alt=\"Open In Colab\"/></a>"
      ]
    },
    {
      "cell_type": "code",
      "execution_count": null,
      "metadata": {
        "id": "6saWGgs0h_R6"
      },
      "outputs": [],
      "source": [
        "import numpy as np\n",
        "from google.colab import auth\n",
        "auth.authenticate_user()\n",
        "from sklearn.svm import SVR\n",
        "from sklearn.pipeline import make_pipeline\n",
        "from sklearn.preprocessing import StandardScaler, MinMaxScaler\n",
        "from sklearn.model_selection import train_test_split, GridSearchCV\n",
        "from sklearn.metrics import mean_squared_error, r2_score\n",
        "import gspread\n",
        "from gspread.utils import ValueRenderOption\n",
        "from google.auth import default\n",
        "creds, _ = default()\n",
        "\n",
        "gc = gspread.authorize(creds)"
      ]
    },
    {
      "cell_type": "markdown",
      "source": [
        "#Константы и функции"
      ],
      "metadata": {
        "id": "Rjy_0yS4dpuF"
      }
    },
    {
      "cell_type": "code",
      "source": [
        "alphabet = \"abcdefghijklmnopqrstuvwxyz\"\n",
        "clusterisation_column = 8\n",
        "idk = \"Я не знаю таких цифр\""
      ],
      "metadata": {
        "id": "8x2jgW6vD3Ea"
      },
      "execution_count": null,
      "outputs": []
    },
    {
      "cell_type": "markdown",
      "source": [
        "Обработка данных:"
      ],
      "metadata": {
        "id": "T2SR65UfIjPL"
      }
    },
    {
      "cell_type": "code",
      "source": [
        "def prepare_clusters(winner_coordinates, learning_rate, sigma, iterations, column, frequency_threshold):\n",
        "  col = calculate_column(column)\n",
        "  title = np.array([[np.round(learning_rate, 4), np.round(sigma, 4), iterations, f'=COUNTUNIQUE({col}6:{col})', f'=\"№\"&столбец({col}1)-7']])\n",
        "  unique_coords, cluster_labels, labels_frequency = np.unique(winner_coordinates, axis=0, return_inverse=True, return_counts=True)\n",
        "  for i, freq in enumerate(labels_frequency):\n",
        "    if freq < frequency_threshold:\n",
        "      cluster_labels[cluster_labels == i] = -1\n",
        "  return np.append(title, [cluster_labels], axis=1)\n",
        "\n",
        "def to_list(array):\n",
        "  return array.reshape(-1, 1).tolist()\n",
        "\n",
        "def generate_unique_pairs(data):\n",
        "  if data.ndim == 1:\n",
        "    empty_array = np.empty((2, 0))\n",
        "    for i in range(len(data)):\n",
        "      for j in range(i + 1, len(data)):\n",
        "        empty_array = np.append(empty_array, [[data[i]], [data[j]]], axis=1)\n",
        "    return empty_array.T\n",
        "  else:\n",
        "    num_rows = data.shape[0]\n",
        "    num_pairs = num_rows * (num_rows - 1) // 2\n",
        "    empty_array = np.empty((num_pairs, 2, data.shape[1]))\n",
        "    pair_index = 0\n",
        "    for i in range(num_rows):\n",
        "      for j in range(i + 1, num_rows):\n",
        "        empty_array[pair_index, 0, :] = data[i, :]\n",
        "        empty_array[pair_index, 1, :] = data[j, :]\n",
        "        pair_index += 1\n",
        "    return empty_array\n"
      ],
      "metadata": {
        "id": "jl3R9dDpH9H4"
      },
      "execution_count": null,
      "outputs": []
    },
    {
      "cell_type": "code",
      "source": [
        "print(np.array((2, 0)))"
      ],
      "metadata": {
        "colab": {
          "base_uri": "https://localhost:8080/"
        },
        "id": "17dzmi9FO3xk",
        "outputId": "ac13e7c0-0b4a-457d-f37b-1e7df6b3ddbe"
      },
      "execution_count": null,
      "outputs": [
        {
          "output_type": "stream",
          "name": "stdout",
          "text": [
            "[2 0]\n"
          ]
        }
      ]
    },
    {
      "cell_type": "markdown",
      "source": [
        "Работа с гугл-таблицами"
      ],
      "metadata": {
        "id": "F6jJ39AOIlsL"
      }
    },
    {
      "cell_type": "code",
      "source": [
        "def calculate_column(number, alphabet=alphabet):\n",
        "  column = ''\n",
        "  while number > 0:\n",
        "    number, remainder = divmod(number - 1, 26)\n",
        "    column = alphabet[remainder] + column\n",
        "  return column\n",
        "\n",
        "def ccell(column, row): #calculatecell\n",
        "  return ''.join([calculate_column(column), str(row)])\n",
        "\n",
        "def ccell_range(start_column, start_row, end_column, end_row):\n",
        "  start = ccell(start_column, start_row)\n",
        "  end = ccell(end_column, end_row)\n",
        "  return ':'.join([start, end])\n",
        "\n",
        "def get_data_from_googlesheet(google_spreedsheet, sheet_name):\n",
        "  table = np.array(google_spreedsheet.worksheet(sheet_name).get_all_values()) #Лист преобразуется в массив\n",
        "  name_of_properties = table[0][3:-1] # Получаем наименования свойств (со второго до предпоследнего)\n",
        "  table = np.transpose(table) #Транспонируем\n",
        "  id = table[1][1:] #Получаем лист наименований\n",
        "  source = table[-1][1:] #Получаем лист сурсов\n",
        "  properties = table[3:-1][0:] #Получаем лист свойств, который нужно будет снова транспонировать\n",
        "  return id, source, np.transpose(np.delete(properties, 0, 1).astype('float64')), name_of_properties\n"
      ],
      "metadata": {
        "id": "TXz90IwgHuvw"
      },
      "execution_count": null,
      "outputs": []
    },
    {
      "cell_type": "markdown",
      "source": [
        "#Получение данных по работе и ввод листа экспериментов\n"
      ],
      "metadata": {
        "id": "xMtP3sTqdVKu"
      }
    },
    {
      "cell_type": "code",
      "source": [
        "data_spreadsheet = gc.open_by_key('199JJj9XfyCkrX9I6I0PKK07vmkfNWT2OPLLX1OSwT8s')\n",
        "experiment_spreadsheet = gc.open_by_key('1DPg6_La4imPZVX83Jqd-5U9pd7AGN5j_w8GSd9TlmWk')\n",
        "indices_id_array, source_array, indices, name_of_indices = get_data_from_googlesheet(data_spreadsheet, \"Статья1QSPR\")\n",
        "properties_id_array, source_array, properties, name_of_properties = get_data_from_googlesheet(data_spreadsheet, \"Статья1св-ва\")"
      ],
      "metadata": {
        "id": "uSsFae3ioCmP"
      },
      "execution_count": null,
      "outputs": []
    },
    {
      "cell_type": "code",
      "source": [
        "try:\n",
        "  sheet_name = input(\"Результаты будут импортированы в гугл-таблицу. \\nИмя листа будет: \")\n",
        "  worksheet = experiment_spreadsheet.add_worksheet(title=sheet_name, rows=1000, cols=1000)\n",
        "except gspread.exceptions.APIError:\n",
        "  worksheet = experiment_spreadsheet.worksheet(sheet_name)\n"
      ],
      "metadata": {
        "colab": {
          "base_uri": "https://localhost:8080/"
        },
        "id": "Ue0LX_Md3eJ3",
        "outputId": "e9da77ff-689a-429a-b399-795ba2337a9e"
      },
      "execution_count": null,
      "outputs": [
        {
          "name": "stdout",
          "output_type": "stream",
          "text": [
            "Результаты будут импортированы в гугл-таблицу. \n",
            "Имя листа будет: 1d variation\n"
          ]
        }
      ]
    },
    {
      "cell_type": "code",
      "source": [
        "svr = SVR()\n",
        "param_grid = {\n",
        "    'kernel': ['linear'],\n",
        "    'C':[0.001, 0.01, 0.1, 0.5, 1, 10],\n",
        "    'gamma': ['scale'],\n",
        "    'epsilon': [0.001, 0.01, 0.1, 0.2]\n",
        "    }\n",
        "\n",
        "grid_search = GridSearchCV(svr, param_grid, cv=5, scoring='neg_mean_squared_error', verbose=0, n_jobs=-1)"
      ],
      "metadata": {
        "id": "mPhmwnyS6m7y"
      },
      "execution_count": null,
      "outputs": []
    },
    {
      "cell_type": "markdown",
      "source": [
        "#Основной блок реализации\n"
      ],
      "metadata": {
        "id": "TKe0ftTvjsv7"
      }
    },
    {
      "cell_type": "markdown",
      "source": [
        "##Версия с минмаксной нормализацией"
      ],
      "metadata": {
        "id": "mOGZoYtt7JFV"
      }
    },
    {
      "cell_type": "code",
      "source": [
        "indices_scaler = MinMaxScaler()\n",
        "properties_scaler = MinMaxScaler()\n",
        "indices_train, indices_test, properties_train, properties_test = train_test_split(indices, properties, test_size=0.1, shuffle=False)\n",
        "indices_train_scaled = indices_scaler.fit_transform(indices_train)\n",
        "indices_test_scaled =  indices_scaler.transform(indices_test)\n",
        "properties_train_scaled = properties_scaler.fit_transform(properties_train)\n",
        "properties_test_scaled =  properties_scaler.transform(properties_test)\n",
        "min_indices = indices_scaler.data_min_\n",
        "min_properties = properties_scaler.data_min_\n",
        "range_indices = indices_scaler.data_range_\n",
        "range_properties = properties_scaler.data_range_\n",
        "pairs = generate_unique_pairs(np.arange(len(name_of_indices))).astype(int)\n",
        "print(f'Мин-макс для индексов:\\n{min_properties}\\n')\n",
        "print(f'Разброс для индексов:\\n{range_indices}')\n",
        "print(f'Мин-макс для свойств:\\n{min_properties}\\n')\n",
        "print(f'Разброс для свойств:\\n{range_properties}')\n",
        "#worksheet.update(indices_train_scaled.tolist(), 'j50')\n",
        "#worksheet.update(properties_train_scaled.tolist(), 'k35')"
      ],
      "metadata": {
        "id": "Eey5bYf8v7y9",
        "colab": {
          "base_uri": "https://localhost:8080/"
        },
        "outputId": "9d9c014e-4c25-431e-8ff5-69eb83f85bd1"
      },
      "execution_count": null,
      "outputs": [
        {
          "output_type": "stream",
          "name": "stdout",
          "text": [
            "Мин-макс для индексов:\n",
            "[247.9  89.  103.7  46.5  36.9  14.6  38.1 102.7]\n",
            "\n",
            "Разброс для индексов:\n",
            "[3.191e+01 1.717e+01 4.040e+02 1.296e+03 7.780e+00 1.979e+02 5.401e+03\n",
            " 5.370e+00]\n",
            "Мин-макс для свойств:\n",
            "[247.9  89.  103.7  46.5  36.9  14.6  38.1 102.7]\n",
            "\n",
            "Разброс для свойств:\n",
            "[733.9 181.  443.9 115.7 119.3  47.3  65.2 317.4]\n"
          ]
        }
      ]
    },
    {
      "cell_type": "markdown",
      "source": [
        "##Основной блок\n"
      ],
      "metadata": {
        "id": "LlN8HJWgbgO2"
      }
    },
    {
      "cell_type": "markdown",
      "source": [
        "###Совершите выбор:"
      ],
      "metadata": {
        "id": "lFFjK3w2LY9f"
      }
    },
    {
      "cell_type": "markdown",
      "source": [
        "8d"
      ],
      "metadata": {
        "id": "EDLM04FVxKPK"
      }
    },
    {
      "cell_type": "code",
      "source": [
        "pairs_of_scaled_indices = np.array([indices_train_scaled.T])\n",
        "pairs_of_range_indices = np.array([range_indices])\n",
        "pairs_of_min_indices = np.array([min_indices])\n",
        "pairs_of_min_properties = np.array([min_properties])\n",
        "pairs_of_range_properties = np.array([range_properties])\n",
        "\n",
        "pairs_of_indices = np.array([indices.T])\n",
        "pairs_of_names_indices = np.array([name_of_indices])"
      ],
      "metadata": {
        "id": "SSETK5k8FwUY"
      },
      "execution_count": null,
      "outputs": []
    },
    {
      "cell_type": "markdown",
      "source": [
        "2d"
      ],
      "metadata": {
        "id": "HjUhpzTzxJJc"
      }
    },
    {
      "cell_type": "code",
      "source": [
        "pairs_of_scaled_indices = generate_unique_pairs(indices_train_scaled.T)\n",
        "pairs_of_range_indices = generate_unique_pairs(range_indices)\n",
        "pairs_of_min_indices = generate_unique_pairs(min_indices)\n",
        "pairs_of_min_properties = generate_unique_pairs(min_properties)\n",
        "pairs_of_range_properties = generate_unique_pairs(range_properties)\n",
        "\n",
        "pairs_of_indices = generate_unique_pairs(indices.T)\n",
        "pairs_of_names_indices = generate_unique_pairs(name_of_indices)"
      ],
      "metadata": {
        "id": "9o3U9OKnaKAC"
      },
      "execution_count": null,
      "outputs": []
    },
    {
      "cell_type": "markdown",
      "source": [
        "1d\n"
      ],
      "metadata": {
        "id": "VxmEBHICx1si"
      }
    },
    {
      "cell_type": "code",
      "source": [
        "pairs_of_scaled_indices = indices_train_scaled.T.reshape(indices.shape[1], 1, indices.shape[0]-2)\n",
        "pairs_of_range_indices = range_indices.reshape(-1, 1)\n",
        "pairs_of_min_indices = min_indices.reshape(-1, 1)\n",
        "pairs_of_min_properties = min_properties.reshape(-1, 1)\n",
        "pairs_of_range_properties = range_properties.reshape(-1, 1)\n",
        "\n",
        "pairs_of_indices = indices.T.reshape(indices.shape[1], 1, indices.shape[0])\n",
        "pairs_of_names_indices = name_of_indices.reshape(-1, 1)"
      ],
      "metadata": {
        "id": "4zL69pV5qjt7"
      },
      "execution_count": null,
      "outputs": []
    },
    {
      "cell_type": "markdown",
      "source": [
        "###ВЫВОД (просто нажать кнопку)\n",
        "\n",
        "\n",
        "\n"
      ],
      "metadata": {
        "id": "7q9OnmMYMaev"
      }
    },
    {
      "cell_type": "markdown",
      "source": [
        "Полезные константы"
      ],
      "metadata": {
        "id": "ZwgjwYks14fO"
      }
    },
    {
      "cell_type": "code",
      "source": [
        "indices_number = name_of_indices.shape[0]    #8\n",
        "prop_number = name_of_properties.shape[0]    #8\n",
        "sample_number = properties.shape[0]          #14\n",
        "coef_number = pairs_of_indices.shape[1] + 1  #2, 3, 9\n",
        "pairs_number = pairs_of_indices.shape[0]     #8, 28, 1\n",
        "\n",
        "empty_str_number = 1\n",
        "param_number = 2\n",
        "\n",
        "first_block_row = 2\n",
        "first_block_column = 2\n",
        "\n",
        "initial_row = first_block_row - 1\n",
        "initial_column = first_block_column + prop_number"
      ],
      "metadata": {
        "id": "HOM6wYpM1Ezw"
      },
      "execution_count": null,
      "outputs": []
    },
    {
      "cell_type": "markdown",
      "source": [
        "Коэффициенты"
      ],
      "metadata": {
        "id": "yQ1u3rRVzhuc"
      }
    },
    {
      "cell_type": "code",
      "source": [
        "row = first_block_row\n",
        "column = first_block_column\n",
        "\n",
        "worksheet.update([name_of_properties.tolist()], ccell(column, row-1))\n",
        "for i in range(pairs_number):\n",
        "  print(f'\\nОбучение SVR по индексам {pairs_of_names_indices[i]}\\n')\n",
        "  title = np.insert(pairs_of_names_indices[i], 0, \"a0\").reshape(-1, 1)\n",
        "  iteration = np.empty_like(title)\n",
        "  print(f'Диапазон индексов: {pairs_of_range_indices[i]}')\n",
        "  for j in range(prop_number):\n",
        "    print(f\"Обучение SVR по свойству {name_of_properties[j]}...\")\n",
        "    grid_search.fit(pairs_of_scaled_indices[i].T, properties_train_scaled[:, j])\n",
        "    print(f'Диапазон Свойства: {range_properties[j]}')\n",
        "    print(f'Коэффициенты: {grid_search.best_estimator_.coef_[0, :]}')\n",
        "    print(f\"Свободный член: {grid_search.best_estimator_.intercept_}\")\n",
        "    coefficients = grid_search.best_estimator_.coef_.ravel() / pairs_of_range_indices[i] * range_properties[j]\n",
        "    print(f'Коэффициенты после обработки: {coefficients}')\n",
        "    intercept = min_properties[j]+grid_search.best_estimator_.intercept_[0]*range_properties[j] - np.sum(coefficients * pairs_of_min_indices[i])\n",
        "    print(f'Свободный член после обработки: {intercept}')\n",
        "    subiteration = np.array(np.round(np.array([[intercept]]), 6))\n",
        "    subiteration = np.append(subiteration, np.round(coefficients.reshape(-1, 1), 6), axis=0)\n",
        "    iteration = np.hstack((iteration, subiteration))\n",
        "  iteration = np.delete(iteration, 0, axis=1)\n",
        "  worksheet.update(title.tolist(), ccell(column-1, row))\n",
        "  worksheet.update(iteration.tolist(), ccell(column, row), value_input_option='USER_ENTERED')\n",
        "  row += title.shape[0]"
      ],
      "metadata": {
        "id": "NOACNpj3-Ips"
      },
      "execution_count": null,
      "outputs": []
    },
    {
      "cell_type": "markdown",
      "source": [
        "пары индексов"
      ],
      "metadata": {
        "id": "r7L83pHV7iDQ"
      }
    },
    {
      "cell_type": "code",
      "source": [
        "row = initial_row\n",
        "column = initial_column\n",
        "\n",
        "pairs_of_titles = pairs_of_names_indices.reshape(pairs_number, coef_number - 1, 1)\n",
        "empty_title = np.empty((pairs_number, coef_number - 1, 1), dtype=object)\n",
        "empty_samples = np.empty((pairs_number, coef_number - 1, sample_number), dtype=object)\n",
        "pairs_of_indices_with_empty_titles = np.append(empty_title, pairs_of_indices, axis=2)\n",
        "pairs_of_names_indices_with_empty_samples = np.append(pairs_of_titles, empty_samples, axis=2)\n",
        "first_pair_of_samples = pairs_of_indices_with_empty_titles[0]\n",
        "first_pair_of_names = pairs_of_names_indices_with_empty_samples[0]\n",
        "for i in range(1, pairs_number):\n",
        "  first_pair_of_samples = np.append(first_pair_of_samples, pairs_of_indices_with_empty_titles[i], axis=1)\n",
        "  first_pair_of_names = np.append(first_pair_of_names, pairs_of_names_indices_with_empty_samples[i], axis=1)\n",
        "first_pair_of_samples = np.transpose(first_pair_of_samples)\n",
        "first_pair_of_names = np.transpose(first_pair_of_names)\n",
        "worksheet.update(first_pair_of_samples.tolist(), ccell(column, row), value_input_option='USER_ENTERED')\n",
        "worksheet.update(first_pair_of_names.tolist(), ccell(column, row), value_input_option='USER_ENTERED')"
      ],
      "metadata": {
        "id": "94So6UNCS9h3",
        "colab": {
          "base_uri": "https://localhost:8080/"
        },
        "outputId": "bcfcc69e-9a0e-4bde-ff8e-97591b7ad336"
      },
      "execution_count": null,
      "outputs": [
        {
          "output_type": "execute_result",
          "data": {
            "text/plain": [
              "{'spreadsheetId': '1DPg6_La4imPZVX83Jqd-5U9pd7AGN5j_w8GSd9TlmWk',\n",
              " 'updatedRange': \"'1d variation'!J1:J106\",\n",
              " 'updatedRows': 8,\n",
              " 'updatedColumns': 1,\n",
              " 'updatedCells': 8}"
            ]
          },
          "metadata": {},
          "execution_count": 210
        }
      ]
    },
    {
      "cell_type": "markdown",
      "source": [
        "Подготовка блока математики"
      ],
      "metadata": {
        "id": "Gf7XbBE67g69"
      }
    },
    {
      "cell_type": "code",
      "source": [
        "row = initial_row\n",
        "column = initial_column + coef_number - 1\n",
        "end_row = first_block_column + coef_number * pairs_number - 1\n",
        "end_col = first_block_column + prop_number - 1\n",
        "all_coef = np.array(worksheet.get(ccell_range(first_block_column, first_block_row, end_col, end_row))).astype('float64')\n",
        "all_coef = np.transpose(all_coef)\n",
        "all_coef = all_coef.reshape(prop_number, pairs_number, coef_number)\n",
        "pairs_of_names_in_one_cell = np.array([])\n",
        "for i in range(pairs_number):\n",
        "  name_in_one_cell  = pairs_of_names_indices[i, 0]\n",
        "  for j in range(1, coef_number-1):\n",
        "    name_in_one_cell = '+'.join([name_in_one_cell, str(pairs_of_names_indices[i, j])])\n",
        "  pairs_of_names_in_one_cell = np.append(pairs_of_names_in_one_cell, name_in_one_cell)\n",
        "for i in range(prop_number):\n",
        "  str_for_update = np.append(name_of_properties[i], pairs_of_names_in_one_cell)\n",
        "  worksheet.update([str_for_update.tolist()], ccell(column, row))\n",
        "  worksheet.update(all_coef[i].T.tolist(), ccell(column+1, row+1))\n",
        "  row += coef_number + sample_number + param_number + empty_str_number + 1"
      ],
      "metadata": {
        "id": "ktP5GFG87KUQ"
      },
      "execution_count": null,
      "outputs": []
    },
    {
      "cell_type": "markdown",
      "source": [
        "Перенос свойств"
      ],
      "metadata": {
        "id": "7oPBrZpbS9OS"
      }
    },
    {
      "cell_type": "code",
      "source": [
        "row = initial_row\n",
        "column = initial_column + pairs_of_names_indices.shape[1] + pairs_number + 1\n",
        "worksheet.update([name_of_properties.tolist()], ccell(column, row))\n",
        "worksheet.update(properties.tolist(), ccell(column, row+1))\n"
      ],
      "metadata": {
        "id": "pucqf2hEMeOm",
        "colab": {
          "base_uri": "https://localhost:8080/"
        },
        "outputId": "8b52768d-b007-4a20-b93d-74b754357b6d"
      },
      "execution_count": null,
      "outputs": [
        {
          "output_type": "execute_result",
          "data": {
            "text/plain": [
              "{'spreadsheetId': '1DPg6_La4imPZVX83Jqd-5U9pd7AGN5j_w8GSd9TlmWk',\n",
              " 'updatedRange': \"'8d variation'!T2:AA15\",\n",
              " 'updatedRows': 14,\n",
              " 'updatedColumns': 8,\n",
              " 'updatedCells': 112}"
            ]
          },
          "metadata": {},
          "execution_count": 199
        }
      ]
    },
    {
      "cell_type": "markdown",
      "source": [
        "Проводит все необходимые математические операции в блоке"
      ],
      "metadata": {
        "id": "5g451jgTPML7"
      }
    },
    {
      "cell_type": "code",
      "source": [
        "row = initial_row + coef_number + 1\n",
        "column = initial_column + coef_number - 1  + 1\n",
        "prop_row = initial_row + 1\n",
        "prop_column = initial_column + coef_number - 1 + pairs_number + 1\n",
        "indices_start_col = initial_column\n",
        "indices_end_col = initial_column + coef_number - 2\n",
        "\n",
        "empty_strs = np.empty((empty_str_number, pairs_number), dtype=object)\n",
        "sup_arr = np.arange(sample_number*pairs_number).reshape(sample_number, pairs_number)\n",
        "\n",
        "#verification = f'=мумнож({ccell_range(20, (verification // 28 + 15 * (verification % 28)+2), 21, (verification // 28 + 15 * (verification % 28)+2))};{ccell_range(((verification % 28)+23), (row - 2), ((verification % 28)+23), (row-1))})+{ccell(verification % 28)+23, row-3}'\n",
        "for prop in range(prop_number):\n",
        "  verification = np.empty_like(sup_arr, dtype=object)\n",
        "  for r in range(verification.shape[0]):\n",
        "    for c in range(verification.shape[1]):\n",
        "      indices_row = sup_arr[r, c] // pairs_number + (sample_number+1) * (sup_arr[r, c] % pairs_number) + initial_row + 1\n",
        "      indices_range = ccell_range(indices_start_col, indices_row, indices_end_col, indices_row)\n",
        "      coef_column = (sup_arr[r, c] % pairs_number) + column\n",
        "      coef_start_row = row - coef_number + 1\n",
        "      coef_end_row = row - 1\n",
        "      coef_range = ccell_range(coef_column, coef_start_row, coef_column, coef_end_row)\n",
        "      intercept_cell = ccell((sup_arr[r, c] % pairs_number) + column, row - coef_number)\n",
        "      verification[r, c] = f'=мумнож({indices_range};{coef_range})+{intercept_cell}'\n",
        "  rmse = np.empty((pairs_number), dtype=object)\n",
        "  rsquared = np.empty((pairs_number), dtype=object)\n",
        "  for i in range(verification.shape[1]):\n",
        "    model_column = sup_arr[1, i] % pairs_number + column\n",
        "    correspondence = f'{ccell_range(model_column, row, model_column, row+sample_number-1)};{ccell_range(prop_column, prop_row, prop_column, prop_row+sample_number-1)}'\n",
        "    rmse[i] = f'=корень(суммквразн({correspondence})/{sample_number})'\n",
        "    rsquared[i] = f'=квпирсон({correspondence})'\n",
        "  prop_column += 1\n",
        "  verification = np.append(verification, empty_strs, axis=0)\n",
        "  verification = np.append(verification, [rmse], axis=0)\n",
        "  verification = np.append(verification, [rsquared], axis=0)\n",
        "  worksheet.update(verification.tolist(), ccell(column, row),value_input_option='USER_ENTERED')\n",
        "  row += coef_number + sample_number + param_number + empty_str_number + 1"
      ],
      "metadata": {
        "id": "lQR3ynamjhZR"
      },
      "execution_count": null,
      "outputs": []
    },
    {
      "cell_type": "markdown",
      "source": [
        "Выводы"
      ],
      "metadata": {
        "id": "YNGcXWBykMyQ"
      }
    },
    {
      "cell_type": "code",
      "source": [
        "\n",
        "row = initial_row + sample_number + 1\n",
        "column = initial_column + coef_number - 1 + pairs_number + 1\n",
        "#row = initial_row\n",
        "#column = initial_column + prop_number + pairs_of_names_indices.shape[1] + 1 + pairs_number\n",
        "verrow = initial_row + coef_number + sample_number + empty_str_number + 1\n",
        "vercol = initial_column + coef_number - 1 + 1\n",
        "\n",
        "conclusion_table = np.empty((param_number*4, prop_number), dtype=object)\n",
        "titles = np.array([[\"Свойство\"], [\"Лучшая пара по RMSE\"], [\"Наименьшая RMSE\"], [\"Худшая пара по RMSE\"], [\"Наибольшая RMSE\"], [\"Лучшая пара по R^2\"], [\"Наивысшая R^2\"], [\"Худшая пара по R^2\"], [\"Наименьшая R^2\"]])\n",
        "for i in range(prop_number):\n",
        "  search_range = ccell_range(vercol, verrow, vercol+pairs_number-1, verrow)\n",
        "  conclusion_table[0, i] = f'=индекс({ccell_range(vercol, initial_row, vercol+pairs_number-1, initial_row)}; поискпоз(мин({search_range}); {search_range}; 0))'\n",
        "  conclusion_table[1, i] = f'=индекс({search_range}; поискпоз(мин({search_range}); {search_range}; 0))'\n",
        "  conclusion_table[2, i] = f'=индекс({ccell_range(vercol, initial_row, vercol+pairs_number-1, initial_row)}; поискпоз(макс({search_range}); {search_range}; 0))'\n",
        "  conclusion_table[3, i] = f'=индекс({search_range}; поискпоз(макс({search_range}); {search_range}; 0))'\n",
        "  search_range = ccell_range(vercol, verrow+1, vercol+pairs_number-1, verrow+1)\n",
        "  conclusion_table[4, i] = f'=индекс({ccell_range(vercol, initial_row, vercol+pairs_number-1, initial_row)}; поискпоз(макс({search_range}); {search_range}; 0))'\n",
        "  conclusion_table[5, i] = f'=индекс({search_range}; поискпоз(макс({search_range}); {search_range}; 0))'\n",
        "  conclusion_table[6, i] = f'=индекс({ccell_range(vercol, initial_row, vercol+pairs_number-1, initial_row)}; поискпоз(мин({search_range}); {search_range}; 0))'\n",
        "  conclusion_table[7, i] = f'=индекс({search_range}; поискпоз(мин({search_range}); {search_range}; 0))'\n",
        "  verrow += coef_number + sample_number + param_number + empty_str_number + 1\n",
        "conclusion_table = np.append([name_of_properties], conclusion_table, axis=0)\n",
        "conclusion_table = np.append(titles, conclusion_table, axis=1)\n",
        "conclusion_table = np.transpose(conclusion_table)\n",
        "worksheet.update(conclusion_table.tolist(), ccell(column, row),value_input_option='USER_ENTERED')"
      ],
      "metadata": {
        "colab": {
          "base_uri": "https://localhost:8080/"
        },
        "id": "sK92fiu2ARb-",
        "outputId": "0f567c48-dc98-448a-d4d2-10b7d202ba67"
      },
      "execution_count": null,
      "outputs": [
        {
          "output_type": "execute_result",
          "data": {
            "text/plain": [
              "{'spreadsheetId': '1DPg6_La4imPZVX83Jqd-5U9pd7AGN5j_w8GSd9TlmWk',\n",
              " 'updatedRange': \"'8d variation'!T16:AB24\",\n",
              " 'updatedRows': 9,\n",
              " 'updatedColumns': 9,\n",
              " 'updatedCells': 81}"
            ]
          },
          "metadata": {},
          "execution_count": 201
        }
      ]
    },
    {
      "cell_type": "markdown",
      "source": [
        "##2D Без преобразования коэффициентов"
      ],
      "metadata": {
        "id": "AEnzqbgjF57m"
      }
    },
    {
      "cell_type": "code",
      "source": [
        "subrow = 2\n",
        "subcol = 10\n",
        "row = 2\n",
        "column = 2\n",
        "worksheet.update([name_of_properties.tolist()], ccell(column, row-1))\n",
        "for i in range(pairs.shape[0]):\n",
        "  print(f'\\nОбучение SVR по индексам {name_of_indices[pairs[i, 0]]} и {name_of_indices[pairs[i, 1]]}\\n')\n",
        "  grid_search = GridSearchCV(svr, param_grid, cv=5, scoring='neg_mean_squared_error', verbose=1, n_jobs=-1)\n",
        "  pair_of_indices = np.append([indices_train_scaled[:, pairs[i, 0]]], [indices_train_scaled[:, pairs[i, 1]]], axis=0).T\n",
        "  title = np.array([[\"C\"], [\"epsilon\"], [\"MSE\"], [\"a0\"], [name_of_indices[pairs[i, 0]]], [name_of_indices[pairs[i, 1]]]])\n",
        "  iteration = np.empty_like(title)\n",
        "  for j in range(properties_train.shape[1]):\n",
        "    print(f\"Обучение SVR по свойству {name_of_properties[j]}...\")\n",
        "    grid_search.fit(pair_of_indices, properties_train_scaled[:, j])\n",
        "    coefficients = grid_search.best_estimator_.coef_.ravel()\n",
        "    intercept = grid_search.best_estimator_.intercept_\n",
        "    print(f\"Коэффициенты: {coefficients}\")\n",
        "    print(f\"Свободный член: {intercept}\")\n",
        "    subiteration = np.array(np.array(list(grid_search.best_params_.values())[0:2]).reshape(-1, 1))\n",
        "    subiteration = np.append(subiteration, [[np.round(grid_search.best_score_, 4)]], axis=0)\n",
        "    subiteration = np.append(subiteration, np.round(np.array([grid_search.best_estimator_.intercept_]), 6), axis=0)\n",
        "    subiteration = np.append(subiteration, np.round(grid_search.best_estimator_.coef_.reshape(-1, 1), 6), axis=0)\n",
        "    iteration = np.hstack((iteration, subiteration))\n",
        "  iteration = np.delete(iteration, 0, axis=1)\n",
        "  worksheet.update(title.tolist(), ccell(column-1, row))\n",
        "  worksheet.update(iteration.tolist(), ccell(column, row), value_input_option='USER_ENTERED')\n",
        "  row += title.shape[0]"
      ],
      "metadata": {
        "id": "R0kM3fUUF6BW"
      },
      "execution_count": null,
      "outputs": []
    },
    {
      "cell_type": "markdown",
      "source": [
        "8D"
      ],
      "metadata": {
        "id": "oGBZlIHLiVOf"
      }
    },
    {
      "cell_type": "code",
      "source": [
        "subrow = 2\n",
        "subcol = 10\n",
        "row = 2 + 14\n",
        "column = 2\n",
        "worksheet.update([name_of_properties.tolist()], ccell(column, row-1))\n",
        "title = np.array([[\"C\"], [\"epsilon\"], [\"MSE\"], [\"a0\"]])\n",
        "title = np.append(title, name_of_indices.reshape(-1, 1), axis=0)\n",
        "worksheet.update(title.tolist(), ccell(column-1, row))\n",
        "for i in range(properties_train.shape[1]):\n",
        "  print(f\"\\nОбучение SVR по свойству {name_of_properties[i]}...\\n\")\n",
        "  grid_search = GridSearchCV(svr, param_grid, cv=5, scoring='neg_mean_squared_error', verbose=0, n_jobs=-1)\n",
        "  grid_search.fit(indices_train_scaled, properties_train_scaled[:, i])\n",
        "  coefficients = grid_search.best_estimator_.coef_.ravel()\n",
        "  intercept = grid_search.best_estimator_.intercept_\n",
        "  print(f\"Коэффициент: {coefficients}\")\n",
        "  print(f\"Свободный член: {intercept}\")\n",
        "  coefficients = (coefficients / range_indices) * range_properties[i]\n",
        "  intercept = min_properties[i] + grid_search.best_estimator_.intercept_[0] * range_properties[i] - np.sum(coefficients * min_indices)\n",
        "  print(f'Коэффициент после обработки: {coefficients}')\n",
        "  print(f'Свободный член после обработки: {intercept}')\n",
        "  iteration = np.array(np.array(list(grid_search.best_params_.values())[0:2]).reshape(-1, 1))\n",
        "  iteration = np.append(iteration, [[np.round(grid_search.best_score_, 4)]], axis=0)\n",
        "  iteration = np.append(iteration, np.round(np.array([intercept]), 6).reshape(1, 1), axis=0)\n",
        "  iteration = np.append(iteration, np.round(coefficients.reshape(-1, 1), 6), axis=0)\n",
        "  worksheet.update(iteration.tolist(), f'{calculate_column(column)}{row}', value_input_option='USER_ENTERED')\n",
        "  column += 1"
      ],
      "metadata": {
        "id": "kYvFmR_wiVsj"
      },
      "execution_count": null,
      "outputs": []
    },
    {
      "cell_type": "markdown",
      "source": [
        "##Версии со стандартной нормализацией\n"
      ],
      "metadata": {
        "id": "RKw8aOtN6-20"
      }
    },
    {
      "cell_type": "code",
      "source": [
        "indices_scaler = StandardScaler()\n",
        "properties_scaler = StandardScaler()\n",
        "indices_train, indices_test, properties_train, properties_test = train_test_split(indices, properties, test_size=0.2, shuffle=False)\n",
        "indices_train_scaled = indices_scaler.fit_transform(indices_train)\n",
        "indices_test_scaled =  indices_scaler.transform(indices_test)\n",
        "properties_train_scaled = properties_scaler.fit_transform(properties_train)\n",
        "properties_test_scaled =  properties_scaler.transform(properties_test)\n",
        "std_indices = indices_scaler.scale_\n",
        "mean_indices = indices_scaler.mean_\n",
        "std_properties = properties_scaler.scale_\n",
        "mean_properties = properties_scaler.mean_\n",
        "pairs = generate_unique_pairs(np.arange(len(name_of_indices))).astype(int)\n",
        "print(f'Среднее по индексам: \\n{mean_indices}')\n",
        "print(f'Стандартное по индексам: \\n{std_indices}')\n",
        "print(f'Среднее по Свойствам: \\n{mean_properties}')\n",
        "print(f'Стандартное по Свойствам: \\n{std_properties}')\n",
        "\n",
        "worksheet.update(indices_train_scaled.tolist(), 'k22')\n",
        "worksheet.update(properties_train_scaled.tolist(), 'k35')"
      ],
      "metadata": {
        "id": "UMRS6tqg6c5S",
        "colab": {
          "base_uri": "https://localhost:8080/"
        },
        "outputId": "288f5fc7-a6d7-454b-f360-e5bd8ab29b8f"
      },
      "execution_count": null,
      "outputs": [
        {
          "output_type": "stream",
          "name": "stdout",
          "text": [
            "Среднее по индексам: \n",
            "[  26.07666667   14.72        302.91666667  910.58333333    5.35416667\n",
            "  149.27416667 3744.83333333    4.85416667]\n",
            "Стандартное по индексам: \n",
            "[1.22210824e+01 6.33377586e+00 1.54977664e+02 5.04345857e+02\n",
            " 2.50163100e+00 7.66757092e+01 2.08222160e+03 2.02681383e+00]\n",
            "Среднее по Свойствам: \n",
            "[537.85583333 185.54166667 287.1         88.38333333  90.61666667\n",
            "  35.91666667  60.14166667 254.325     ]\n",
            "Стандартное по Свойствам: \n",
            "[199.82609554  42.57222213 115.19037865  28.22297626  39.25919921\n",
            "  15.56833503  18.29072891 103.90360216]\n"
          ]
        },
        {
          "output_type": "execute_result",
          "data": {
            "text/plain": [
              "{'spreadsheetId': '1DPg6_La4imPZVX83Jqd-5U9pd7AGN5j_w8GSd9TlmWk',\n",
              " 'updatedRange': \"'test 13\\\\'!K35:R46\",\n",
              " 'updatedRows': 12,\n",
              " 'updatedColumns': 8,\n",
              " 'updatedCells': 96}"
            ]
          },
          "metadata": {},
          "execution_count": 41
        }
      ]
    },
    {
      "cell_type": "code",
      "source": [
        "subrow = 2\n",
        "subcol = 10\n",
        "row = 2\n",
        "column = 2\n",
        "\n",
        "worksheet.update([name_of_properties.tolist()], ccell(column, row-1))\n",
        "for i in range(pairs.shape[0]):\n",
        "  print(f'Обучение SVR по индекксам {name_of_indices[pairs[i, 0]]} и {name_of_indices[pairs[i, 1]]}')\n",
        "  grid_search = GridSearchCV(svr, param_grid, cv=5, scoring='neg_mean_squared_error', verbose=1, n_jobs=-1)\n",
        "  pair_of_indices = np.append([indices_train_scaled[:, pairs[i, 0]]], [indices_train_scaled[:, pairs[i, 1]]], axis=0).T\n",
        "  title = np.array([[\"C\"], [\"epsilon\"], [\"MSE\"], [\"a0\"], [name_of_indices[pairs[i, 0]]], [name_of_indices[pairs[i, 1]]]])\n",
        "  iteration = np.empty_like(title)\n",
        "  for j in range(properties_train.shape[1]):\n",
        "    print(f\"Обучение SVR по свойству {name_of_properties[j]}...\")\n",
        "    grid_search.fit(pair_of_indices, properties_train_scaled[:, j])\n",
        "    coefficients = np.array([])\n",
        "    mean_of_pair_indices = np.array([])\n",
        "    for k in range(pair_of_indices.shape[1]):\n",
        "      coefficients = np.append(coefficients, (grid_search.best_estimator_.coef_[0, k] / std_indices[pairs[i, k]]) * std_properties[j])\n",
        "      mean_of_pair_indices = np.append(mean_of_pair_indices, mean_indices[pairs[i, k]])\n",
        "    intercept = (grid_search.best_estimator_.intercept_[0] * std_properties[j]) + mean_properties[j] - np.sum(coefficients * mean_of_pair_indices)\n",
        "    subiteration = np.array(np.array(list(grid_search.best_params_.values())[0:2]).reshape(-1, 1))\n",
        "    subiteration = np.append(subiteration, [[np.round(grid_search.best_score_, 4)]], axis=0)\n",
        "    subiteration = np.append(subiteration, np.round(coefficients.reshape(-1, 1), 6), axis=0)\n",
        "    subiteration = np.append(subiteration, np.round(np.array([intercept]), 6).reshape(-1, 1), axis=0) # Reshape intercept to 2D\n",
        "    iteration = np.hstack((iteration, subiteration))\n",
        "  iteration = np.delete(iteration, 0, axis=1)\n",
        "  worksheet.update(title.tolist(), ccell(column-1, row))\n",
        "  worksheet.update(iteration.tolist(), ccell(column, row), value_input_option='USER_ENTERED')\n",
        "  row += title.shape[0]"
      ],
      "metadata": {
        "id": "a4JgffczrHLX"
      },
      "execution_count": null,
      "outputs": []
    },
    {
      "cell_type": "markdown",
      "source": [
        "Коэффициенты скалированные"
      ],
      "metadata": {
        "id": "Bj7V0lQfwSD7"
      }
    },
    {
      "cell_type": "code",
      "source": [
        "subrow = 2\n",
        "subcol = 10\n",
        "row = 2\n",
        "column = 2\n",
        "worksheet.update([name_of_properties.tolist()], ccell(column, row-1))\n",
        "for i in range(pairs.shape[0]):\n",
        "  print(f'Обучение SVR по индекксам {name_of_indices[pairs[i, 0]]} и {name_of_indices[pairs[i, 1]]}')\n",
        "  grid_search = GridSearchCV(svr, param_grid, cv=5, scoring='neg_mean_squared_error', verbose=1, n_jobs=-1)\n",
        "  pair_of_indices = np.append([indices_train_scaled[:, pairs[i, 0]]], [indices_train_scaled[:, pairs[i, 1]]], axis=0).T\n",
        "  title = np.array([[\"C\"], [\"epsilon\"], [\"MSE\"], [\"a0\"], [name_of_indices[pairs[i, 0]]], [name_of_indices[pairs[i, 1]]]])\n",
        "  iteration = np.empty_like(title)\n",
        "  for j in range(properties_train.shape[1]):\n",
        "    print(f\"Обучение SVR по свойству {name_of_properties[j]}...\")\n",
        "    grid_search.fit(pair_of_indices, properties_train_scaled[:, j])\n",
        "    subiteration = np.array(np.array(list(grid_search.best_params_.values())[0:2]).reshape(-1, 1))\n",
        "    subiteration = np.append(subiteration, [[np.round(grid_search.best_score_, 4)]], axis=0)\n",
        "    subiteration = np.append(subiteration, np.round(np.array([grid_search.best_estimator_.intercept_]), 6), axis=0)\n",
        "    subiteration = np.append(subiteration, np.round(grid_search.best_estimator_.coef_.reshape(-1, 1), 6), axis=0)\n",
        "    iteration = np.hstack((iteration, subiteration))\n",
        "  iteration = np.delete(iteration, 0, axis=1)\n",
        "  worksheet.update(title.tolist(), ccell(column-1, row))\n",
        "  worksheet.update(iteration.tolist(), ccell(column, row), value_input_option='USER_ENTERED')\n",
        "  row += title.shape[0]"
      ],
      "metadata": {
        "id": "q9hnRJsbv8I4"
      },
      "execution_count": null,
      "outputs": []
    },
    {
      "cell_type": "markdown",
      "source": [
        "1d вариация\n"
      ],
      "metadata": {
        "id": "EZ8PfPNBjwcJ"
      }
    },
    {
      "cell_type": "code",
      "source": [
        "subrow = 2\n",
        "subcol = 10\n",
        "row = 2\n",
        "column = 2\n",
        "for i in range(properties_train.shape[1]):\n",
        "  print(f\"Training SVR for property {name_of_properties[i]}...\")\n",
        "  title = np.array([[f\"{name_of_properties[i]}\"], [\"C\"], [\"epsilon\"], [\"gamma\"], [\"MSE\"], [\"a0\"], [\"a1\"]])\n",
        "  worksheet.update(title.tolist(), f'{calculate_column(column-1)}{row}')\n",
        "  worksheet.update_acell(f'{calculate_column(subcol)}{subrow}', f'{name_of_properties[i]}')\n",
        "  iteration = np.empty_like(title)\n",
        "  for j in range(indices_train.shape[1]):\n",
        "    print(f\"By molecular indice {name_of_indices[j]}...\")\n",
        "    grid_search = GridSearchCV(svr, param_grid, cv=5, scoring='neg_mean_squared_error', verbose=0, n_jobs=-1)\n",
        "    grid_search.fit(indices_train_scaled[:, j].reshape(-1, 1), properties_train_scaled[:, i])\n",
        "    coefficients = (grid_search.best_estimator_.coef_[0, 0] / std_indices[j]) * std_properties[i]\n",
        "    intercept = (grid_search.best_estimator_.intercept_[0] * std_properties[i]) + mean_properties[i] - np.sum(coefficients * mean_indices[j])\n",
        "    subiteration = np.array([[\"X\"]])\n",
        "    subiteration = np.append(subiteration, np.array(list(grid_search.best_params_.values())[0:3]).reshape(-1, 1), axis=0)\n",
        "    subiteration = np.append(subiteration, [[np.round(grid_search.best_score_, 4)]], axis=0)\n",
        "    subiteration = np.append(subiteration, np.round(np.array([grid_search.best_estimator_.intercept_]), 6), axis=0)\n",
        "    subiteration = np.append(subiteration, np.round(grid_search.best_estimator_.coef_, 6), axis=0)\n",
        "    iteration = np.hstack((iteration, subiteration))\n",
        "  iteration = np.delete(iteration, 0, axis=1)\n",
        "  worksheet.update_acell(f'{calculate_column(subcol+1)}{subrow}', f'=ИНДЕКС(b1:i1, Поискпоз(макс({calculate_column(column)}{row+4}:{calculate_column(column+iteration.shape[1]-1)}{row+4}), {calculate_column(column)}{row+4}:{calculate_column(column+iteration.shape[1]-1)}{row+4}, 0))')\n",
        "  subrow += 1\n",
        "  worksheet.update(iteration.tolist(), f'{calculate_column(column)}{row}', value_input_option='USER_ENTERED')\n",
        "  row += title.shape[0]"
      ],
      "metadata": {
        "id": "6VFz5kNlPWo2"
      },
      "execution_count": null,
      "outputs": []
    },
    {
      "cell_type": "markdown",
      "source": [
        "#8d Вариация"
      ],
      "metadata": {
        "id": "-2BzGpM3sZ0M"
      }
    },
    {
      "cell_type": "code",
      "source": [
        "subrow = 2\n",
        "subcol = 10\n",
        "row = 2\n",
        "column = 2\n",
        "\n",
        "worksheet.update([name_of_properties.tolist()], ccell(column, row-1))\n",
        "title = np.array([[\"C\"], [\"epsilon\"], [\"gamma\"], [\"MSE\"], [\"a0\"]])\n",
        "title = np.append(title, name_of_indices.reshape(-1, 1), axis=0)\n",
        "worksheet.update(title.tolist(), ccell(1, 2))\n",
        "for i in range(properties_train.shape[1]):\n",
        "  print(f\"Обучение SVR по свойству {name_of_properties[i]}...\")\n",
        "  grid_search = GridSearchCV(svr, param_grid, cv=5, scoring='neg_mean_squared_error', verbose=0, n_jobs=-1)\n",
        "  grid_search.fit(indices_train_scaled, properties_train_scaled[:, i])\n",
        "  coefficients = (grid_search.best_estimator_.coef_ / std_indices) * std_properties[i]\n",
        "  intercept = (grid_search.best_estimator_.intercept_ * std_properties[i]) + mean_properties[i] - np.sum(coefficients  * mean_indices)\n",
        "  #coefficients = grid_search.best_estimator_.coef_\n",
        "  #intercept = grid_search.best_estimator_.intercept_\n",
        "  #iteration = np.array(np.array(list(grid_search.best_params_.values())[0:3]).reshape(-1, 1))\n",
        "  #iteration = np.append(iteration, [[np.round(grid_search.best_score_, 4)]], axis=0)\n",
        "  #iteration = np.append(iteration, np.round(coefficients.reshape(-1, 1), 6), axis=0)\n",
        "  #iteration = np.append(iteration, np.round(np.array([intercept]), 6), axis=0)\n",
        "  #worksheet.update(iteration.tolist(), f'{calculate_column(column)}{row}', value_input_option='USER_ENTERED')\n",
        "  #column += 1"
      ],
      "metadata": {
        "colab": {
          "base_uri": "https://localhost:8080/"
        },
        "id": "bI_eeLFVsZEU",
        "outputId": "646a0e86-5a89-4021-8e45-fd663cba90ac"
      },
      "execution_count": null,
      "outputs": [
        {
          "output_type": "stream",
          "name": "stdout",
          "text": [
            "Обучение SVR по свойству Boiling point...\n",
            "Обучение SVR по свойству Melting point...\n",
            "Обучение SVR по свойству Flash point...\n",
            "Обучение SVR по свойству Enthalpy of vaporization...\n",
            "Обучение SVR по свойству Molar refraction...\n",
            "Обучение SVR по свойству Polarization...\n",
            "Обучение SVR по свойству Surface tension...\n",
            "Обучение SVR по свойству Molar Volume...\n"
          ]
        }
      ]
    },
    {
      "cell_type": "markdown",
      "source": [
        "# Я не знаю, что это, но пусть останется\n"
      ],
      "metadata": {
        "id": "jLTNQcqa2Zhq"
      }
    },
    {
      "cell_type": "code",
      "source": [
        "subrow = 2\n",
        "subcol = 10\n",
        "row = 2\n",
        "column = 2\n",
        "for i in range(properties_train.shape[1]):\n",
        "  print(f\"Обучение SVR по свойству {name_of_properties[i]}...\")\n",
        "  grid_search = GridSearchCV(svr, param_grid, cv=5, scoring='neg_mean_squared_error', verbose=1, n_jobs=-1)\n",
        "  grid_search.fit(indices_train, properties_train[:, i])\n",
        "  coefficients = (grid_search.best_estimator_.coef_ / std_indices) * std_properties[i]\n",
        "  intercept = (grid_search.best_estimator_.intercept_ * std_properties[i]) + mean_properties[i] - np.sum((coefficients / std_indices) * std_properties[i] * mean_indices)\n",
        "\n",
        "  iteration = np.array(np.array(list(grid_search.best_params_.values())[0:3]).reshape(-1, 1))\n",
        "  iteration = np.append(iteration, [[np.round(grid_search.best_score_, 4)]], axis=0)\n",
        "  iteration = np.append(iteration, np.round(coefficients.reshape(-1, 1), 6), axis=0)\n",
        "  iteration = np.append(iteration, np.round(np.array([intercept]), 6), axis=0)\n",
        "  worksheet.update(iteration.tolist(), f'{calculate_column(column)}{row}', value_input_option='USER_ENTERED')\n",
        "  column += 1\n"
      ],
      "metadata": {
        "id": "6GAOqJdwu_wZ",
        "colab": {
          "base_uri": "https://localhost:8080/"
        },
        "outputId": "57c7afe3-de9c-4c5d-fb3d-9efc15f81c00"
      },
      "execution_count": null,
      "outputs": [
        {
          "output_type": "stream",
          "name": "stdout",
          "text": [
            "Обучение SVR по свойству Boiling point...\n",
            "Fitting 5 folds for each of 24 candidates, totalling 120 fits\n",
            "Обучение SVR по свойству Melting point...\n",
            "Fitting 5 folds for each of 24 candidates, totalling 120 fits\n",
            "Обучение SVR по свойству Flash point...\n",
            "Fitting 5 folds for each of 24 candidates, totalling 120 fits\n",
            "Обучение SVR по свойству Enthalpy of vaporization...\n",
            "Fitting 5 folds for each of 24 candidates, totalling 120 fits\n",
            "Обучение SVR по свойству Molar refraction...\n",
            "Fitting 5 folds for each of 24 candidates, totalling 120 fits\n",
            "Обучение SVR по свойству Polarization...\n",
            "Fitting 5 folds for each of 24 candidates, totalling 120 fits\n",
            "Обучение SVR по свойству Surface tension...\n",
            "Fitting 5 folds for each of 24 candidates, totalling 120 fits\n",
            "Обучение SVR по свойству Molar Volume...\n",
            "Fitting 5 folds for each of 24 candidates, totalling 120 fits\n"
          ]
        }
      ]
    },
    {
      "cell_type": "code",
      "source": [
        "param_grid = {\n",
        "    'kernel': ['linear'],\n",
        "    'C':[0.01, 0.1, 1, 10, 100, 1000],\n",
        "    'gamma': ['scale', 'auto', 0.001, 0.01, 0.1, 1],\n",
        "    'epsilon': [0.01, 0.1, 0.2, 0.5]\n",
        "    }"
      ],
      "metadata": {
        "id": "hP6nwgZpV6A9"
      },
      "execution_count": null,
      "outputs": []
    }
  ],
  "metadata": {
    "colab": {
      "provenance": [],
      "collapsed_sections": [
        "Rjy_0yS4dpuF",
        "-2BzGpM3sZ0M",
        "jLTNQcqa2Zhq"
      ],
      "include_colab_link": true
    },
    "kernelspec": {
      "display_name": "Python 3",
      "name": "python3"
    },
    "language_info": {
      "name": "python"
    }
  },
  "nbformat": 4,
  "nbformat_minor": 0
}