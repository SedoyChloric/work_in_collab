{
  "cells": [
    {
      "cell_type": "markdown",
      "metadata": {
        "id": "view-in-github",
        "colab_type": "text"
      },
      "source": [
        "<a href=\"https://colab.research.google.com/github/SedoyChloric/work_in_collab/blob/main/SVR_QSPR%20(next).ipynb\" target=\"_parent\"><img src=\"https://colab.research.google.com/assets/colab-badge.svg\" alt=\"Open In Colab\"/></a>"
      ]
    },
    {
      "cell_type": "code",
      "execution_count": null,
      "metadata": {
        "id": "6saWGgs0h_R6"
      },
      "outputs": [],
      "source": [
        "import numpy as np\n",
        "import math\n",
        "import itertools\n",
        "from google.colab import auth\n",
        "auth.authenticate_user()\n",
        "from sklearn.svm import SVR\n",
        "from sklearn.pipeline import make_pipeline\n",
        "from sklearn.preprocessing import StandardScaler, MinMaxScaler\n",
        "from sklearn.model_selection import train_test_split, GridSearchCV\n",
        "from sklearn.metrics import mean_squared_error, r2_score\n",
        "import gspread\n",
        "from gspread.utils import ValueRenderOption\n",
        "from google.auth import default\n",
        "creds, _ = default()\n",
        "\n",
        "gc = gspread.authorize(creds)"
      ]
    },
    {
      "cell_type": "markdown",
      "source": [
        "#Константы и функции"
      ],
      "metadata": {
        "id": "Rjy_0yS4dpuF"
      }
    },
    {
      "cell_type": "code",
      "source": [
        "alphabet = \"abcdefghijklmnopqrstuvwxyz\"\n",
        "clusterisation_column = 8\n",
        "idk = \"Я не знаю таких цифр\""
      ],
      "metadata": {
        "id": "8x2jgW6vD3Ea"
      },
      "execution_count": null,
      "outputs": []
    },
    {
      "cell_type": "markdown",
      "source": [
        "Обработка данных:"
      ],
      "metadata": {
        "id": "T2SR65UfIjPL"
      }
    },
    {
      "cell_type": "code",
      "source": [
        "\n",
        "def to_list(array):\n",
        "  return array.reshape(-1, 1).tolist()\n",
        "\n",
        "def generate_unique_pairs(data):\n",
        "  if data.ndim == 1:\n",
        "    empty_array = np.empty((2, 0))\n",
        "    for i in range(len(data)):\n",
        "      for j in range(i + 1, len(data)):\n",
        "        empty_array = np.append(empty_array, [[data[i]], [data[j]]], axis=1)\n",
        "    return empty_array.T\n",
        "  else:\n",
        "    num_rows = data.shape[0]\n",
        "    num_pairs = num_rows * (num_rows - 1) // 2\n",
        "    empty_array = np.empty((num_pairs, 2, data.shape[1]))\n",
        "    pair_index = 0\n",
        "    for i in range(num_rows):\n",
        "      for j in range(i + 1, num_rows):\n",
        "        empty_array[pair_index, 0, :] = data[i, :]\n",
        "        empty_array[pair_index, 1, :] = data[j, :]\n",
        "        pair_index += 1\n",
        "    return empty_array\n",
        "\n",
        "\n",
        "def generate_combinations(data, combination_size):\n",
        "  combinations = list(itertools.combinations(data, combination_size))\n",
        "  return np.array(combinations)\n"
      ],
      "metadata": {
        "id": "jl3R9dDpH9H4"
      },
      "execution_count": null,
      "outputs": []
    },
    {
      "cell_type": "markdown",
      "source": [
        "Работа с гугл-таблицами"
      ],
      "metadata": {
        "id": "F6jJ39AOIlsL"
      }
    },
    {
      "cell_type": "code",
      "source": [
        "def calculate_column(number, alphabet=alphabet):\n",
        "  column = ''\n",
        "  while number > 0:\n",
        "    number, remainder = divmod(number - 1, 26)\n",
        "    column = alphabet[remainder] + column\n",
        "  return column\n",
        "\n",
        "def ccell(column, row): #calculatecell\n",
        "  return ''.join([calculate_column(column), str(row)])\n",
        "\n",
        "def ccell_range(start_column, start_row, end_column, end_row):\n",
        "  start = ccell(start_column, start_row)\n",
        "  end = ccell(end_column, end_row)\n",
        "  return ':'.join([start, end])\n",
        "\n",
        "def get_data_from_googlesheet(google_spreedsheet, sheet_name):\n",
        "  table = np.array(google_spreedsheet.worksheet(sheet_name).get_all_values()) #Лист преобразуется в массив\n",
        "  name_of_properties = table[0][3:-1] # Получаем наименования свойств (со второго до предпоследнего)\n",
        "  table = np.transpose(table) #Транспонируем\n",
        "  id = table[1][1:] #Получаем лист наименований\n",
        "  source = table[-1][1:] #Получаем лист сурсов\n",
        "  properties = table[3:-1][0:] #Получаем лист свойств, который нужно будет снова транспонировать\n",
        "  return id, source, np.transpose(np.delete(properties, 0, 1).astype('float64')), name_of_properties\n"
      ],
      "metadata": {
        "id": "TXz90IwgHuvw"
      },
      "execution_count": null,
      "outputs": []
    },
    {
      "cell_type": "markdown",
      "source": [
        "#Получение данных по работе и ввод листа экспериментов\n"
      ],
      "metadata": {
        "id": "xMtP3sTqdVKu"
      }
    },
    {
      "cell_type": "code",
      "source": [
        "data_spreadsheet = gc.open_by_key('199JJj9XfyCkrX9I6I0PKK07vmkfNWT2OPLLX1OSwT8s')\n",
        "experiment_spreadsheet = gc.open_by_key('11l7Sza1nFuHxiXXTHJVsU8bdkDkLCwuAts_4MVgmZjk')\n",
        "indices_id_array, source_array, indices, name_of_indices = get_data_from_googlesheet(data_spreadsheet, \"Статья1QSPR\")\n",
        "properties_id_array, source_array, properties, name_of_properties = get_data_from_googlesheet(data_spreadsheet, \"Статья1св-ва\")"
      ],
      "metadata": {
        "id": "uSsFae3ioCmP"
      },
      "execution_count": null,
      "outputs": []
    },
    {
      "cell_type": "code",
      "source": [
        "try:\n",
        "  sheet_name = input(\"Результаты будут импортированы в гугл-таблицу. \\nИмя листа будет: \")\n",
        "  worksheet = experiment_spreadsheet.add_worksheet(title=sheet_name, rows=1000, cols=1000)\n",
        "except gspread.exceptions.APIError:\n",
        "  worksheet = experiment_spreadsheet.worksheet(sheet_name)\n"
      ],
      "metadata": {
        "colab": {
          "base_uri": "https://localhost:8080/"
        },
        "id": "Ue0LX_Md3eJ3",
        "outputId": "ac1f3aa9-f3ef-48b3-c216-3ee83512577a"
      },
      "execution_count": null,
      "outputs": [
        {
          "name": "stdout",
          "output_type": "stream",
          "text": [
            "Результаты будут импортированы в гугл-таблицу. \n",
            "Имя листа будет: 1d\n"
          ]
        }
      ]
    },
    {
      "cell_type": "code",
      "source": [
        "svr = SVR()\n",
        "param_grid = {\n",
        "    'C':[0.001, 0.01, 0.1, 0.5, 1, 10, 100, 1000],\n",
        "    'epsilon': [0.001, 0.01, 0.1, 0.2],\n",
        "    'kernel': ['linear']\n",
        "    }\n",
        "\n",
        "grid_search = GridSearchCV(svr, param_grid, cv=5, scoring='neg_mean_squared_error', verbose=0, n_jobs=-1)\n",
        "\n",
        "hyperparam = np.array(list(param_grid.keys()))\n",
        "hyperparam = np.append(hyperparam, \"a0\")\n",
        "hyperparam_number = hyperparam.shape[0] - 1\n"
      ],
      "metadata": {
        "id": "mPhmwnyS6m7y"
      },
      "execution_count": null,
      "outputs": []
    },
    {
      "cell_type": "markdown",
      "source": [
        "#Основной блок реализации\n"
      ],
      "metadata": {
        "id": "TKe0ftTvjsv7"
      }
    },
    {
      "cell_type": "markdown",
      "source": [
        "##Версия с минмаксной нормализацией"
      ],
      "metadata": {
        "id": "mOGZoYtt7JFV"
      }
    },
    {
      "cell_type": "code",
      "source": [
        "indices_scaler = MinMaxScaler()\n",
        "properties_scaler = MinMaxScaler()\n",
        "indices_train, indices_test, properties_train, properties_test = train_test_split(indices, properties, test_size=0.2, shuffle=False)\n",
        "indices_train_scaled = indices_scaler.fit_transform(indices_train)\n",
        "indices_test_scaled =  indices_scaler.transform(indices_test)\n",
        "properties_train_scaled = properties_scaler.fit_transform(properties_train)\n",
        "properties_test_scaled =  properties_scaler.transform(properties_test)\n",
        "min_indices = indices_scaler.data_min_\n",
        "min_properties = properties_scaler.data_min_\n",
        "range_indices = indices_scaler.data_range_\n",
        "range_properties = properties_scaler.data_range_\n",
        "pairs = generate_unique_pairs(np.arange(len(name_of_indices))).astype(int)\n",
        "print(f'Мин-макс для индексов:\\n{min_properties}\\n')\n",
        "print(f'Разброс для индексов:\\n{range_indices}')\n",
        "print(f'Мин-макс для свойств:\\n{min_properties}\\n')\n",
        "print(f'Разброс для свойств:\\n{range_properties}')\n",
        "#worksheet.update(indices_train_scaled.tolist(), 'j50')\n",
        "#worksheet.update(properties_train_scaled.tolist(), 'k35')"
      ],
      "metadata": {
        "id": "Eey5bYf8v7y9",
        "colab": {
          "base_uri": "https://localhost:8080/"
        },
        "outputId": "2314fc90-e3d7-49f2-e371-9d3fcdc94321"
      },
      "execution_count": null,
      "outputs": [
        {
          "output_type": "stream",
          "name": "stdout",
          "text": [
            "Мин-макс для индексов:\n",
            "[247.9  89.  103.7  46.5  36.9  14.6  38.1 110.2]\n",
            "\n",
            "Разброс для индексов:\n",
            "[3.191e+01 1.717e+01 4.040e+02 1.296e+03 7.780e+00 1.979e+02 5.401e+03\n",
            " 5.370e+00]\n",
            "Мин-макс для свойств:\n",
            "[247.9  89.  103.7  46.5  36.9  14.6  38.1 110.2]\n",
            "\n",
            "Разброс для свойств:\n",
            "[733.9 181.  443.9 115.7 119.3  47.3  65.2 309.9]\n"
          ]
        }
      ]
    },
    {
      "cell_type": "markdown",
      "source": [
        "##Основной блок\n"
      ],
      "metadata": {
        "id": "LlN8HJWgbgO2"
      }
    },
    {
      "cell_type": "markdown",
      "source": [
        "###Совершите выбор:"
      ],
      "metadata": {
        "id": "lFFjK3w2LY9f"
      }
    },
    {
      "cell_type": "markdown",
      "source": [
        "2d"
      ],
      "metadata": {
        "id": "HjUhpzTzxJJc"
      }
    },
    {
      "cell_type": "code",
      "source": [
        "comb_number = 1\n",
        "pairs_of_scaled_indices = generate_combinations(indices_train_scaled.T, comb_number)\n",
        "pairs_of_range_indices = generate_combinations(range_indices, comb_number)\n",
        "pairs_of_min_indices = generate_combinations(min_indices, comb_number)\n",
        "pairs_of_min_properties = generate_combinations(min_properties, comb_number)\n",
        "pairs_of_range_properties = generate_combinations(range_properties, comb_number)\n",
        "\n",
        "pairs_of_indices = generate_combinations(indices.T, comb_number)\n",
        "pairs_of_names_indices = generate_combinations(name_of_indices, comb_number)"
      ],
      "metadata": {
        "id": "9o3U9OKnaKAC"
      },
      "execution_count": null,
      "outputs": []
    },
    {
      "cell_type": "markdown",
      "source": [
        "###ВЫВОД (просто нажать кнопку)\n",
        "\n",
        "\n",
        "\n"
      ],
      "metadata": {
        "id": "7q9OnmMYMaev"
      }
    },
    {
      "cell_type": "markdown",
      "source": [
        "Полезные константы"
      ],
      "metadata": {
        "id": "ZwgjwYks14fO"
      }
    },
    {
      "cell_type": "code",
      "source": [
        "indices_number = name_of_indices.shape[0]    #8\n",
        "prop_number = name_of_properties.shape[0]    #8\n",
        "sample_number = properties.shape[0]          #14\n",
        "coef_number = pairs_of_indices.shape[1] + 1  #2, 3, 9\n",
        "pairs_number = pairs_of_indices.shape[0]     #8, 28, 1\n",
        "\n",
        "empty_str_number = 1\n",
        "param_number = 2\n",
        "\n",
        "first_block_row = 2\n",
        "first_block_column = 2\n",
        "\n",
        "initial_row = first_block_row - 1\n",
        "initial_column = first_block_column + prop_number"
      ],
      "metadata": {
        "id": "HOM6wYpM1Ezw"
      },
      "execution_count": null,
      "outputs": []
    },
    {
      "cell_type": "markdown",
      "source": [
        "Коэффициенты"
      ],
      "metadata": {
        "id": "yQ1u3rRVzhuc"
      }
    },
    {
      "cell_type": "code",
      "source": [
        "row = first_block_row\n",
        "column = first_block_column\n",
        "\n",
        "worksheet.update([name_of_properties.tolist()], ccell(column, row-1))\n",
        "for i in range(pairs_number):\n",
        "  print(f'\\nОбучение SVR по индексам {pairs_of_names_indices[i]}\\n')\n",
        "  title = np.insert(pairs_of_names_indices[i], 0, hyperparam).reshape(-1, 1)\n",
        "  iteration = np.empty_like(title)\n",
        "  print(f'Диапазон индексов: {pairs_of_range_indices[i]}')\n",
        "  for j in range(prop_number):\n",
        "    print(f\"Обучение SVR по свойству {name_of_properties[j]}...\")\n",
        "    grid_search.fit(pairs_of_scaled_indices[i].T, properties_train_scaled[:, j])\n",
        "    print(f'Диапазон Свойства: {range_properties[j]}')\n",
        "    print(f'Коэффициенты: {grid_search.best_estimator_.coef_[0, :]}')\n",
        "    print(f\"Свободный член: {grid_search.best_estimator_.intercept_}\")\n",
        "    coefficients = grid_search.best_estimator_.coef_.ravel() / pairs_of_range_indices[i] * range_properties[j]\n",
        "    print(f'Коэффициенты после обработки: {coefficients}')\n",
        "    intercept = min_properties[j]+grid_search.best_estimator_.intercept_[0]*range_properties[j] - np.sum(coefficients * pairs_of_min_indices[i])\n",
        "    print(f'Свободный член после обработки: {intercept}')\n",
        "    subiteration = np.array(list(grid_search.best_params_.values())).reshape(-1, 1)\n",
        "    subiteration = np.append(subiteration, np.round(np.array([[intercept]]), 6), axis=0)\n",
        "    subiteration = np.append(subiteration, np.round(coefficients.reshape(-1, 1), 6), axis=0)\n",
        "    iteration = np.hstack((iteration, subiteration))\n",
        "  iteration = np.delete(iteration, 0, axis=1)\n",
        "  title = np.append(title, iteration, axis=1)\n",
        "  worksheet.update(title.tolist(), ccell(column-1, row), value_input_option='USER_ENTERED')\n",
        "  row += title.shape[0]"
      ],
      "metadata": {
        "id": "NOACNpj3-Ips",
        "colab": {
          "base_uri": "https://localhost:8080/"
        },
        "outputId": "d13fdc82-411b-4351-82ca-de0acf7342e1"
      },
      "execution_count": null,
      "outputs": [
        {
          "output_type": "stream",
          "name": "stdout",
          "text": [
            "\n",
            "Обучение SVR по индексам ['NGA(G)']\n",
            "\n",
            "Диапазон индексов: [31.91]\n",
            "Обучение SVR по свойству Boiling point...\n",
            "Диапазон Свойства: 733.9\n",
            "Коэффициенты: [0.55778061]\n",
            "Свободный член: [0.08372339]\n",
            "Коэффициенты после обработки: [12.82842969]\n",
            "Свободный член после обработки: 183.62598138580717\n",
            "Обучение SVR по свойству Melting point...\n",
            "Диапазон Свойства: 181.0\n",
            "Коэффициенты: [0.17822195]\n",
            "Свободный член: [0.45756354]\n",
            "Коэффициенты после обработки: [1.01091111]\n",
            "Свободный член после обработки: 161.91207112354945\n",
            "Обучение SVR по свойству Flash point...\n",
            "Диапазон Свойства: 443.90000000000003\n",
            "Коэффициенты: [0.55612209]\n",
            "Свободный член: [0.08239727]\n",
            "Коэффициенты после обработки: [7.73621427]\n",
            "Свободный член после обработки: 64.46124746786032\n",
            "Обучение SVR по свойству Enthalpy of vaporization...\n",
            "Диапазон Свойства: 115.69999999999999\n",
            "Коэффициенты: [0.39300935]\n",
            "Свободный член: [0.15419405]\n",
            "Коэффициенты после обработки: [1.42498218]\n",
            "Свободный член после обработки: 50.37542568581028\n",
            "Обучение SVR по свойству Molar refraction...\n",
            "Диапазон Свойства: 119.29999999999998\n",
            "Коэффициенты: [0.6812439]\n",
            "Свободный член: [0.08086257]\n",
            "Коэффициенты после обработки: [2.54692564]\n",
            "Свободный член после обработки: 21.587033767805394\n",
            "Обучение SVR по свойству Polarization...\n",
            "Диапазон Свойства: 47.3\n",
            "Коэффициенты: [0.68117985]\n",
            "Свободный член: [0.08091954]\n",
            "Коэффициенты после обработки: [1.00970877]\n",
            "Свободный член после обработки: 8.532348202706558\n",
            "Обучение SVR по свойству Surface tension...\n",
            "Диапазон Свойства: 65.19999999999999\n",
            "Коэффициенты: [0.20048412]\n",
            "Свободный член: [0.18203119]\n",
            "Коэффициенты после обработки: [0.40963851]\n",
            "Свободный член после обработки: 45.9539763498554\n",
            "Обучение SVR по свойству Molar Volume...\n",
            "Диапазон Свойства: 309.90000000000003\n",
            "Коэффициенты: [0.77375773]\n",
            "Свободный член: [0.06812314]\n",
            "Коэффициенты после обработки: [7.5144945]\n",
            "Свободный член после обработки: 57.669316131638496\n",
            "\n",
            "Обучение SVR по индексам ['NABC(G)']\n",
            "\n",
            "Диапазон индексов: [17.17]\n",
            "Обучение SVR по свойству Boiling point...\n",
            "Диапазон Свойства: 733.9\n",
            "Коэффициенты: [0.52353547]\n",
            "Свободный член: [0.10544624]\n",
            "Коэффициенты после обработки: [22.37755863]\n",
            "Свободный член после обработки: 188.56011391821917\n",
            "Обучение SVR по свойству Melting point...\n",
            "Диапазон Свойства: 181.0\n",
            "Коэффициенты: [0.17433769]\n",
            "Свободный член: [0.45756353]\n",
            "Коэффициенты после обработки: [1.83780561]\n",
            "Свободный член после обработки: 160.59000741826506\n",
            "Обучение SVR по свойству Flash point...\n",
            "Диапазон Свойства: 443.90000000000003\n",
            "Коэффициенты: [0.56199244]\n",
            "Свободный член: [0.09083533]\n",
            "Коэффициенты после обработки: [14.52932117]\n",
            "Свободный член после обработки: 55.247649947883716\n",
            "Обучение SVR по свойству Enthalpy of vaporization...\n",
            "Диапазон Свойства: 115.69999999999999\n",
            "Коэффициенты: [0.44738548]\n",
            "Свободный член: [0.10730942]\n",
            "Коэффициенты после обработки: [3.01470587]\n",
            "Свободный член после обработки: 40.49584715103538\n",
            "Обучение SVR по свойству Molar refraction...\n",
            "Диапазон Свойства: 119.29999999999998\n",
            "Коэффициенты: [0.81539288]\n",
            "Свободный член: [0.01749112]\n",
            "Коэффициенты после обработки: [5.66548457]\n",
            "Свободный член после обработки: 4.370579763364887\n",
            "Обучение SVR по свойству Polarization...\n",
            "Диапазон Свойства: 47.3\n",
            "Коэффициенты: [0.81669387]\n",
            "Свободный член: [0.01715145]\n",
            "Коэффициенты после обработки: [2.24983227]\n",
            "Свободный член после обработки: 1.6647883608184753\n",
            "Обучение SVR по свойству Surface tension...\n",
            "Диапазон Свойства: 65.19999999999999\n",
            "Коэффициенты: [0.1456028]\n",
            "Свободный член: [0.22116832]\n",
            "Коэффициенты после обработки: [0.55290054]\n",
            "Свободный член после обработки: 49.14195221171363\n",
            "Обучение SVR по свойству Molar Volume...\n",
            "Диапазон Свойства: 309.90000000000003\n",
            "Коэффициенты: [0.74190109]\n",
            "Свободный член: [0.0892477]\n",
            "Коэффициенты после обработки: [13.39051539]\n",
            "Свободный член после обработки: 56.041813900295466\n",
            "\n",
            "Обучение SVR по индексам ['𝑁𝑀1(G)']\n",
            "\n",
            "Диапазон индексов: [404.]\n",
            "Обучение SVR по свойству Boiling point...\n",
            "Диапазон Свойства: 733.9\n",
            "Коэффициенты: [0.51290264]\n",
            "Свободный член: [0.10197661]\n",
            "Коэффициенты после обработки: [0.9317308]\n",
            "Свободный член после обработки: 241.68005147388396\n",
            "Обучение SVR по свойству Melting point...\n",
            "Диапазон Свойства: 181.0\n",
            "Коэффициенты: [0.1740331]\n",
            "Свободный член: [0.45756354]\n",
            "Коэффициенты после обработки: [0.07797028]\n",
            "Свободный член после обработки: 165.0355858994182\n",
            "Обучение SVR по свойству Flash point...\n",
            "Диапазон Свойства: 443.90000000000003\n",
            "Коэффициенты: [0.60199836]\n",
            "Свободный член: [0.06572691]\n",
            "Коэффициенты после обработки: [0.66145315]\n",
            "Свободный член после обработки: 75.32975033018211\n",
            "Обучение SVR по свойству Enthalpy of vaporization...\n",
            "Диапазон Свойства: 115.69999999999999\n",
            "Коэффициенты: [0.4155451]\n",
            "Свободный член: [0.11630942]\n",
            "Коэффициенты после обработки: [0.11900636]\n",
            "Свободный член после обработки: 49.603446896804165\n",
            "Обучение SVR по свойству Molar refraction...\n",
            "Диапазон Свойства: 119.29999999999998\n",
            "Коэффициенты: [0.781036]\n",
            "Свободный член: [0.00970426]\n",
            "Коэффициенты после обработки: [0.23063761]\n",
            "Свободный член после обработки: 17.992246246216407\n",
            "Обучение SVR по свойству Polarization...\n",
            "Диапазон Свойства: 47.3\n",
            "Коэффициенты: [0.78082354]\n",
            "Свободный член: [0.00980432]\n",
            "Коэффициенты после обработки: [0.0914182]\n",
            "Свободный член после обработки: 7.110360694038032\n",
            "Обучение SVR по свойству Surface tension...\n",
            "Диапазон Свойства: 65.19999999999999\n",
            "Коэффициенты: [0.19982716]\n",
            "Свободный член: [0.18763448]\n",
            "Коэффициенты после обработки: [0.03224933]\n",
            "Свободный член после обработки: 47.52807602281095\n",
            "Обучение SVR по свойству Molar Volume...\n",
            "Диапазон Свойства: 309.90000000000003\n",
            "Коэффициенты: [0.64396968]\n",
            "Свободный член: [0.12688016]\n",
            "Коэффициенты после обработки: [0.49397575]\n",
            "Свободный член после обработки: 106.54427143546904\n",
            "\n",
            "Обучение SVR по индексам ['𝑁𝑀2(G)']\n",
            "\n",
            "Диапазон индексов: [1296.]\n",
            "Обучение SVR по свойству Boiling point...\n",
            "Диапазон Свойства: 733.9\n",
            "Коэффициенты: [0.60275101]\n",
            "Свободный член: [0.05907449]\n",
            "Коэффициенты после обработки: [0.34132636]\n",
            "Свободный член после обработки: 225.7201034578843\n",
            "Обучение SVR по свойству Melting point...\n",
            "Диапазон Свойства: 181.0\n",
            "Коэффициенты: [0.2467991]\n",
            "Свободный член: [0.40208182]\n",
            "Коэффициенты после обработки: [0.03446808]\n",
            "Свободный член после обработки: 155.15893686894228\n",
            "Обучение SVR по свойству Flash point...\n",
            "Диапазон Свойства: 443.90000000000003\n",
            "Коэффициенты: [0.58378446]\n",
            "Свободный член: [0.0775722]\n",
            "Коэффициенты после обработки: [0.19995519]\n",
            "Свободный член после обработки: 99.74290428416894\n",
            "Обучение SVR по свойству Enthalpy of vaporization...\n",
            "Диапазон Свойства: 115.69999999999999\n",
            "Коэффициенты: [0.39841219]\n",
            "Свободный член: [0.11630942]\n",
            "Коэффициенты после обработки: [0.03556813]\n",
            "Свободный член после обработки: 53.127919982570006\n",
            "Обучение SVR по свойству Molar refraction...\n",
            "Диапазон Свойства: 119.29999999999998\n",
            "Коэффициенты: [0.82405475]\n",
            "Свободный член: [0.001]\n",
            "Коэффициенты после обработки: [0.07585627]\n",
            "Свободный член после обработки: 22.454895350327043\n",
            "Обучение SVR по свойству Polarization...\n",
            "Диапазон Свойства: 47.3\n",
            "Коэффициенты: [0.82404707]\n",
            "Свободный член: [0.001]\n",
            "Коэффициенты после обработки: [0.03007517]\n",
            "Свободный член после обработки: 8.872866414586454\n",
            "Обучение SVR по свойству Surface tension...\n",
            "Диапазон Свойства: 65.19999999999999\n",
            "Коэффициенты: [0.27545737]\n",
            "Свободный член: [0.12814296]\n",
            "Коэффициенты после обработки: [0.01385789]\n",
            "Свободный член после обработки: 43.794206696251365\n",
            "Обучение SVR по свойству Molar Volume...\n",
            "Диапазон Свойства: 309.90000000000003\n",
            "Коэффициенты: [0.68414194]\n",
            "Свободный член: [0.1]\n",
            "Коэффициенты после обработки: [0.16359228]\n",
            "Свободный член после обработки: 109.7802835130533\n",
            "\n",
            "Обучение SVR по индексам ['NR(G)']\n",
            "\n",
            "Диапазон индексов: [7.78]\n",
            "Обучение SVR по свойству Boiling point...\n",
            "Диапазон Свойства: 733.9\n",
            "Коэффициенты: [0.40754568]\n",
            "Свободный член: [0.22159493]\n",
            "Коэффициенты после обработки: [38.44444431]\n",
            "Свободный член после обработки: 319.7996317664481\n",
            "Обучение SVR по свойству Melting point...\n",
            "Диапазон Свойства: 181.0\n",
            "Коэффициенты: [0.28663239]\n",
            "Свободный член: [0.42775398]\n",
            "Коэффициенты после обработки: [6.66843994]\n",
            "Свободный член после обработки: 150.68595293134825\n",
            "Обучение SVR по свойству Flash point...\n",
            "Диапазон Свойства: 443.90000000000003\n",
            "Коэффициенты: [0.33605264]\n",
            "Свободный член: [0.32785335]\n",
            "Коэффициенты после обработки: [19.17400601]\n",
            "Свободный член после обработки: 203.9834500726683\n",
            "Обучение SVR по свойству Enthalpy of vaporization...\n",
            "Диапазон Свойства: 115.69999999999999\n",
            "Коэффициенты: [0.44205355]\n",
            "Свободный член: [0.14557708]\n",
            "Коэффициенты после обработки: [6.57398405]\n",
            "Свободный член после обработки: 47.828665503505135\n",
            "Обучение SVR по свойству Molar refraction...\n",
            "Диапазон Свойства: 119.29999999999998\n",
            "Коэффициенты: [1.0188685]\n",
            "Свободный член: [0.09142498]\n",
            "Коэффициенты после обработки: [15.62352344]\n",
            "Свободный член после обработки: 10.935484624087593\n",
            "Обучение SVR по свойству Polarization...\n",
            "Диапазон Свойства: 47.3\n",
            "Коэффициенты: [1.0187856]\n",
            "Свободный член: [0.09147991]\n",
            "Коэффициенты после обработки: [6.19390217]\n",
            "Свободный член после обработки: 4.30939085153657\n",
            "Обучение SVR по свойству Surface tension...\n",
            "Диапазон Свойства: 65.19999999999999\n",
            "Коэффициенты: [0.20053887]\n",
            "Свободный член: [0.22607362]\n",
            "Коэффициенты после обработки: [1.6806085]\n",
            "Свободный член после обработки: 48.87376392638901\n",
            "Обучение SVR по свойству Molar Volume...\n",
            "Диапазон Свойства: 309.90000000000003\n",
            "Коэффициенты: [1.09319847]\n",
            "Свободный член: [0.10161375]\n",
            "Коэффициенты после обработки: [43.54527051]\n",
            "Свободный член после обработки: 38.923261538155984\n",
            "\n",
            "Обучение SVR по индексам ['NRR(G)']\n",
            "\n",
            "Диапазон индексов: [197.9]\n",
            "Обучение SVR по свойству Boiling point...\n",
            "Диапазон Свойства: 733.9\n",
            "Коэффициенты: [0.51127568]\n",
            "Свободный член: [0.10230021]\n",
            "Коэффициенты после обработки: [1.89603446]\n",
            "Свободный член после обработки: 242.11225209248678\n",
            "Обучение SVR по свойству Melting point...\n",
            "Диапазон Свойства: 181.0\n",
            "Коэффициенты: [0.17403314]\n",
            "Свободный член: [0.45756354]\n",
            "Коэффициенты после обработки: [0.15917129]\n",
            "Свободный член после обработки: 165.03034433825496\n",
            "Обучение SVR по свойству Flash point...\n",
            "Диапазон Свойства: 443.90000000000003\n",
            "Коэффициенты: [0.5921123]\n",
            "Свободный член: [0.06541274]\n",
            "Коэффициенты после обработки: [1.3281387]\n",
            "Свободный член после обработки: 76.09160187031283\n",
            "Обучение SVR по свойству Enthalpy of vaporization...\n",
            "Диапазон Свойства: 115.69999999999999\n",
            "Коэффициенты: [0.41344547]\n",
            "Свободный член: [0.11630942]\n",
            "Коэффициенты после обработки: [0.24171623]\n",
            "Свободный член после обработки: 49.64780291330774\n",
            "Обучение SVR по свойству Molar refraction...\n",
            "Диапазон Свойства: 119.29999999999998\n",
            "Коэффициенты: [0.76777492]\n",
            "Свободный член: [0.00971134]\n",
            "Коэффициенты после обработки: [0.46283754]\n",
            "Свободный член после обработки: 18.3185420854514\n",
            "Обучение SVR по свойству Polarization...\n",
            "Диапазон Свойства: 47.3\n",
            "Коэффициенты: [0.76814347]\n",
            "Свободный член: [0.00952582]\n",
            "Коэффициенты после обработки: [0.18359366]\n",
            "Свободный член после обработки: 7.2203012946534155\n",
            "Обучение SVR по свойству Surface tension...\n",
            "Диапазон Свойства: 65.19999999999999\n",
            "Коэффициенты: [0.19616712]\n",
            "Свободный член: [0.18794814]\n",
            "Коэффициенты после обработки: [0.06462909]\n",
            "Свободный член после обработки: 47.5977880639192\n",
            "Обучение SVR по свойству Molar Volume...\n",
            "Диапазон Свойства: 309.90000000000003\n",
            "Коэффициенты: [0.65260012]\n",
            "Свободный член: [0.11836182]\n",
            "Коэффициенты после обработки: [1.0219342]\n",
            "Свободный член после обработки: 103.29483547458415\n",
            "\n",
            "Обучение SVR по индексам ['NHP(G)']\n",
            "\n",
            "Диапазон индексов: [5401.]\n",
            "Обучение SVR по свойству Boiling point...\n",
            "Диапазон Свойства: 733.9\n",
            "Коэффициенты: [0.60692055]\n",
            "Свободный член: [0.0607822]\n",
            "Коэффициенты после обработки: [0.08246973]\n",
            "Свободный член после обработки: 226.6147432549246\n",
            "Обучение SVR по свойству Melting point...\n",
            "Диапазон Свойства: 181.0\n",
            "Коэффициенты: [0.16311794]\n",
            "Свободный член: [0.45402114]\n",
            "Коэффициенты после обработки: [0.00546646]\n",
            "Свободный член после обработки: 166.8101256564427\n",
            "Обучение SVR по свойству Flash point...\n",
            "Диапазон Свойства: 443.90000000000003\n",
            "Коэффициенты: [0.5654293]\n",
            "Свободный член: [0.100226]\n",
            "Коэффициенты после обработки: [0.04647178]\n",
            "Свободный член после обработки: 111.05937058026811\n",
            "Обучение SVR по свойству Enthalpy of vaporization...\n",
            "Диапазон Свойства: 115.69999999999999\n",
            "Коэффициенты: [0.40555743]\n",
            "Свободный член: [0.11630942]\n",
            "Коэффициенты после обработки: [0.00868783]\n",
            "Свободный член после обработки: 53.015420059400206\n",
            "Обучение SVR по свойству Molar refraction...\n",
            "Диапазон Свойства: 119.29999999999998\n",
            "Коэффициенты: [0.7900596]\n",
            "Свободный член: [0.03239854]\n",
            "Коэффициенты после обработки: [0.01745123]\n",
            "Свободный член после обработки: 26.82161082760139\n",
            "Обучение SVR по свойству Polarization...\n",
            "Диапазон Свойства: 47.3\n",
            "Коэффициенты: [0.79093177]\n",
            "Свободный член: [0.03247801]\n",
            "Коэффициенты после обработки: [0.00692669]\n",
            "Свободный член после обработки: 10.60178174025383\n",
            "Обучение SVR по свойству Surface tension...\n",
            "Диапазон Свойства: 65.19999999999999\n",
            "Коэффициенты: [0.31398495]\n",
            "Свободный член: [0.10214724]\n",
            "Коэффициенты после обработки: [0.00379038]\n",
            "Свободный член после обработки: 41.73148987946972\n",
            "Обучение SVR по свойству Molar Volume...\n",
            "Диапазон Свойства: 309.90000000000003\n",
            "Коэффициенты: [0.70775168]\n",
            "Свободный член: [0.1]\n",
            "Коэффициенты после обработки: [0.04060956]\n",
            "Свободный член после обработки: 108.74295963947813\n",
            "\n",
            "Обучение SVR по индексам ['NHM(G)']\n",
            "\n",
            "Диапазон индексов: [5.37]\n",
            "Обучение SVR по свойству Boiling point...\n",
            "Диапазон Свойства: 733.9\n",
            "Коэффициенты: [0.5732172]\n",
            "Свободный член: [0.1]\n",
            "Коэффициенты после обработки: [78.33968439]\n",
            "Свободный член после обработки: 140.32532914415262\n",
            "Обучение SVR по свойству Melting point...\n",
            "Диапазон Свойства: 181.0\n",
            "Коэффициенты: [0.17807764]\n",
            "Свободный член: [0.45358245]\n",
            "Коэффициенты после обработки: [6.00224445]\n",
            "Свободный член после обработки: 157.23323878329563\n",
            "Обучение SVR по свойству Flash point...\n",
            "Диапазон Свойства: 443.90000000000003\n",
            "Коэффициенты: [0.49782987]\n",
            "Свободный член: [0.17260627]\n",
            "Коэффициенты после обработки: [41.15208202]\n",
            "Свободный член после обработки: 85.25861227656753\n",
            "Обучение SVR по свойству Enthalpy of vaporization...\n",
            "Диапазон Свойства: 115.69999999999999\n",
            "Коэффициенты: [0.42068529]\n",
            "Свободный член: [0.12047919]\n",
            "Коэффициенты после обработки: [9.06392701]\n",
            "Свободный член после обработки: 39.50177051759217\n",
            "Обучение SVR по свойству Molar refraction...\n",
            "Диапазон Свойства: 119.29999999999998\n",
            "Коэффициенты: [0.72003355]\n",
            "Свободный член: [0.10242498]\n",
            "Коэффициенты после обработки: [15.99627602]\n",
            "Свободный член после обработки: 12.16790239161437\n",
            "Обучение SVR по свойству Polarization...\n",
            "Диапазон Свойства: 47.3\n",
            "Коэффициенты: [0.72093025]\n",
            "Свободный член: [0.10247992]\n",
            "Коэффициенты после обработки: [6.35009327]\n",
            "Свободный член после обработки: 4.77858453544566\n",
            "Обучение SVR по свойству Surface tension...\n",
            "Диапазон Свойства: 65.19999999999999\n",
            "Коэффициенты: [0.14110071]\n",
            "Свободный член: [0.22607362]\n",
            "Коэффициенты после обработки: [1.71317812]\n",
            "Свободный член после обработки: 48.88255854800502\n",
            "Обучение SVR по свойству Molar Volume...\n",
            "Диапазон Свойства: 309.90000000000003\n",
            "Коэффициенты: [0.77675047]\n",
            "Свободный член: [0.09261375]\n",
            "Коэффициенты после обработки: [44.82587887]\n",
            "Свободный член после обработки: 35.35321989336039\n"
          ]
        }
      ]
    },
    {
      "cell_type": "markdown",
      "source": [
        "пары индексов"
      ],
      "metadata": {
        "id": "r7L83pHV7iDQ"
      }
    },
    {
      "cell_type": "code",
      "source": [
        "row = initial_row\n",
        "column = initial_column\n",
        "\n",
        "pairs_of_titles = pairs_of_names_indices.reshape(pairs_number, coef_number - 1, 1)\n",
        "empty_title = np.empty((pairs_number, coef_number - 1, 1), dtype=object)\n",
        "empty_samples = np.empty((pairs_number, coef_number - 1, sample_number), dtype=object)\n",
        "pairs_of_indices_with_empty_titles = np.append(empty_title, pairs_of_indices, axis=2)\n",
        "pairs_of_names_indices_with_empty_samples = np.append(pairs_of_titles, empty_samples, axis=2)\n",
        "first_pair_of_samples = pairs_of_indices_with_empty_titles[0]\n",
        "first_pair_of_names = pairs_of_names_indices_with_empty_samples[0]\n",
        "for i in range(1, pairs_number):\n",
        "  first_pair_of_samples = np.append(first_pair_of_samples, pairs_of_indices_with_empty_titles[i], axis=1)\n",
        "  first_pair_of_names = np.append(first_pair_of_names, pairs_of_names_indices_with_empty_samples[i], axis=1)\n",
        "first_pair_of_samples = np.transpose(first_pair_of_samples)\n",
        "first_pair_of_names = np.transpose(first_pair_of_names)\n",
        "worksheet.update(first_pair_of_samples.tolist(), ccell(column, row), value_input_option='USER_ENTERED')\n",
        "worksheet.update(first_pair_of_names.tolist(), ccell(column, row), value_input_option='USER_ENTERED')"
      ],
      "metadata": {
        "id": "94So6UNCS9h3",
        "colab": {
          "base_uri": "https://localhost:8080/"
        },
        "outputId": "3d317094-3767-4112-b3e3-4a372ffdeea9"
      },
      "execution_count": null,
      "outputs": [
        {
          "output_type": "execute_result",
          "data": {
            "text/plain": [
              "{'spreadsheetId': '11l7Sza1nFuHxiXXTHJVsU8bdkDkLCwuAts_4MVgmZjk',\n",
              " 'updatedRange': \"'1d'!J1:J106\",\n",
              " 'updatedRows': 8,\n",
              " 'updatedColumns': 1,\n",
              " 'updatedCells': 8}"
            ]
          },
          "metadata": {},
          "execution_count": 59
        }
      ]
    },
    {
      "cell_type": "markdown",
      "source": [
        "Подготовка блока математики"
      ],
      "metadata": {
        "id": "Gf7XbBE67g69"
      }
    },
    {
      "cell_type": "code",
      "source": [
        "row = initial_row\n",
        "column = initial_column + coef_number - 1\n",
        "end_row = first_block_column + (coef_number + hyperparam_number)* pairs_number - 1\n",
        "end_col = first_block_column + prop_number - 1"
      ],
      "metadata": {
        "id": "ktP5GFG87KUQ"
      },
      "execution_count": 114,
      "outputs": []
    },
    {
      "cell_type": "code",
      "source": [
        "all_data = np.array(worksheet.get(ccell_range(first_block_column, first_block_row, end_col, end_row)))"
      ],
      "metadata": {
        "id": "XkwawG2KSK2G"
      },
      "execution_count": null,
      "outputs": []
    },
    {
      "cell_type": "code",
      "source": [
        "all_hyperparam = np.array([])\n",
        "all_coef = np.array([])\n",
        "for i in range(pairs_number):\n",
        "    start_index = i * (hyperparam_number + coef_number)\n",
        "    hyperparameter_block = all_data[start_index : start_index + hyperparam_number]\n",
        "    coefficient_block = all_data[start_index + hyperparam_number: start_index + hyperparam_number + coef_number]\n",
        "    all_hyperparam = np.append(all_hyperparam, hyperparameter_block)\n",
        "    all_coef = np.append(all_coef, coefficient_block)\n",
        "all_coef = all_coef.reshape(pairs_number*coef_number, prop_number)\n",
        "all_coef = np.transpose(all_coef)\n",
        "all_coef = all_coef.reshape(prop_number, pairs_number, coef_number)"
      ],
      "metadata": {
        "id": "rpN1J27vwt7j"
      },
      "execution_count": 115,
      "outputs": []
    },
    {
      "cell_type": "code",
      "source": [
        "pairs_of_names_in_one_cell = np.array([])\n",
        "for i in range(pairs_number):\n",
        "  pairs_of_names_in_one_cell = np.append(pairs_of_names_in_one_cell, '+'.join((pairs_of_names_indices[i].tolist())))\n",
        "\n",
        "pairs_of_names_in_one_cell = pairs_of_names_in_one_cell.reshape(1, -1)\n",
        "prop_col_start = np.empty((1, coef_number), dtype=object)\n",
        "prop_col_mid = np.empty((1, sample_number), dtype=object)\n",
        "prop_col_end = np.empty((1, empty_str_number + param_number), dtype=object)\n",
        "empty_verification = np.empty((sample_number + empty_str_number + param_number, pairs_number), dtype=object)\n",
        "for i in range(prop_number):\n",
        "  prop = name_of_properties[i].reshape(-1, 1)\n",
        "  prop_col = np.append(prop, prop_col_start, axis=1)\n",
        "  prop_col = np.append(prop_col, prop_col_mid, axis=1)\n",
        "  prop_col = np.append(prop_col, prop_col_end, axis=1)\n",
        "  prop_col = prop_col.reshape(-1, 1)\n",
        "  block_for_update = np.append(pairs_of_names_in_one_cell.reshape(1, -1), all_coef[i].T, axis=0)\n",
        "  block_for_update = np.append(block_for_update, empty_verification, axis=0 )\n",
        "  block_for_update = np.append(prop_col, block_for_update, axis=1)\n",
        "  worksheet.update(block_for_update.tolist(), ccell(column, row),value_input_option='USER_ENTERED')\n",
        "  row += coef_number + sample_number + param_number + empty_str_number + 1"
      ],
      "metadata": {
        "id": "Lq_3JyxmSM0L"
      },
      "execution_count": 116,
      "outputs": []
    },
    {
      "cell_type": "markdown",
      "source": [
        "Перенос свойств"
      ],
      "metadata": {
        "id": "7oPBrZpbS9OS"
      }
    },
    {
      "cell_type": "code",
      "source": [
        "row = initial_row\n",
        "column = initial_column + pairs_of_names_indices.shape[1] + pairs_number + 1\n",
        "worksheet.update([name_of_properties.tolist()], ccell(column, row))\n",
        "worksheet.update(properties.tolist(), ccell(column, row+1))\n"
      ],
      "metadata": {
        "id": "pucqf2hEMeOm",
        "colab": {
          "base_uri": "https://localhost:8080/"
        },
        "outputId": "97b7f03a-1b72-4756-88fb-c807e476aa74"
      },
      "execution_count": null,
      "outputs": [
        {
          "output_type": "execute_result",
          "data": {
            "text/plain": [
              "{'spreadsheetId': '11l7Sza1nFuHxiXXTHJVsU8bdkDkLCwuAts_4MVgmZjk',\n",
              " 'updatedRange': \"'3d'!BR2:BY15\",\n",
              " 'updatedRows': 14,\n",
              " 'updatedColumns': 8,\n",
              " 'updatedCells': 112}"
            ]
          },
          "metadata": {},
          "execution_count": 108
        }
      ]
    },
    {
      "cell_type": "markdown",
      "source": [
        "Проводит все необходимые математические операции в блоке"
      ],
      "metadata": {
        "id": "5g451jgTPML7"
      }
    },
    {
      "cell_type": "code",
      "source": [
        "row = initial_row + coef_number + 1\n",
        "column = initial_column + coef_number - 1  + 1\n",
        "prop_row = initial_row + 1\n",
        "prop_column = initial_column + coef_number - 1 + pairs_number + 1\n",
        "indices_start_col = initial_column\n",
        "indices_end_col = initial_column + coef_number - 1 - 1\n",
        "\n",
        "empty_strs = np.empty((empty_str_number, pairs_number), dtype=object)\n",
        "sup_arr = np.arange(sample_number*pairs_number).reshape(sample_number, pairs_number)\n",
        "\n",
        "indices_range = 1\n",
        "#verification = f'=мумнож({ccell_range(20, (verification // 28 + 15 * (verification % 28)+2), 21, (verification // 28 + 15 * (verification % 28)+2))};{ccell_range(((verification % 28)+23), (row - 2), ((verification % 28)+23), (row-1))})+{ccell(verification % 28)+23, row-3}'\n",
        "\n",
        "for prop in range(prop_number):\n",
        "  verification = np.empty_like(sup_arr, dtype=object)\n",
        "  for r in range(verification.shape[0]):\n",
        "    for c in range(verification.shape[1]):\n",
        "      indices_row = sup_arr[r, c] // pairs_number + (sample_number+1) * (sup_arr[r, c] % pairs_number) + initial_row + 1\n",
        "      indices_range = ccell_range(indices_start_col, indices_row, indices_end_col, indices_row)\n",
        "      coef_column = (sup_arr[r, c] % pairs_number) + column\n",
        "      coef_start_row = row - coef_number + 1\n",
        "      coef_end_row = row - 1\n",
        "      coef_range = ccell_range(coef_column, coef_start_row, coef_column, coef_end_row)\n",
        "      intercept_cell = ccell((sup_arr[r, c] % pairs_number) + column, row - coef_number)\n",
        "      verification[r, c] = f'=мумнож({indices_range};{coef_range})+{intercept_cell}'\n",
        "\n",
        "  rmse = np.empty((pairs_number), dtype=object)\n",
        "  rsquared = np.empty((pairs_number), dtype=object)\n",
        "  prop_range = ccell_range(prop_column, prop_row, prop_column, prop_row+sample_number-1)\n",
        "  indices_row = row - coef_number\n",
        "  indices_range = ccell_range(indices_start_col, indices_row, indices_end_col, indices_row)\n",
        "  for i in range(pairs_number):\n",
        "    model_column = i + column\n",
        "    prediction_range = ccell_range(model_column, row, model_column, row+sample_number-1)\n",
        "    correspondence = f'{prediction_range};{prop_range}'\n",
        "    rmse[i] = f'=корень(суммквразн({correspondence})/чстрок({prediction_range}))'\n",
        "    rsquared[i] = f'=1 - (1 - квпирсон({correspondence}))*(чстрок({prediction_range}) - 1)/(чстрок({prediction_range}) - числстолб({indices_range}))'\n",
        "  prop_column += 1\n",
        "  verification = np.append(verification, empty_strs, axis=0)\n",
        "  verification = np.append(verification, [rmse], axis=0)\n",
        "  verification = np.append(verification, [rsquared], axis=0)\n",
        "  worksheet.update(verification.tolist(), ccell(column, row),value_input_option='USER_ENTERED')\n",
        "  row += coef_number + sample_number + param_number + empty_str_number + 1"
      ],
      "metadata": {
        "id": "lQR3ynamjhZR"
      },
      "execution_count": 117,
      "outputs": []
    },
    {
      "cell_type": "markdown",
      "source": [
        "Выводы"
      ],
      "metadata": {
        "id": "YNGcXWBykMyQ"
      }
    },
    {
      "cell_type": "code",
      "source": [
        "\n",
        "row = initial_row + sample_number + 1\n",
        "column = initial_column + coef_number - 1 + pairs_number + 1\n",
        "#row = initial_row\n",
        "#column = initial_column + prop_number + pairs_of_names_indices.shape[1] + 1 + pairs_number\n",
        "verrow = initial_row + coef_number + sample_number + empty_str_number + 1\n",
        "vercol = initial_column + coef_number - 1 + 1\n",
        "\n",
        "conclusion_table = np.empty((param_number*4, prop_number), dtype=object)\n",
        "titles = np.array([[\"Свойство\"], [\"Лучшая пара по RMSE\"], [\"Наименьшая RMSE\"], [\"Худшая пара по RMSE\"], [\"Наибольшая RMSE\"], [\"Лучшая пара по R^2(adj)\"], [\"Наивысшая R^2(adj)\"], [\"Худшая пара по R^2(adj)\"], [\"Наименьшая R^2(adj)\"]])\n",
        "for i in range(prop_number):\n",
        "  search_range = ccell_range(vercol, verrow, vercol+pairs_number-1, verrow)\n",
        "  conclusion_table[0, i] = f'=индекс({ccell_range(vercol, initial_row, vercol+pairs_number-1, initial_row)}; поискпоз(мин({search_range}); {search_range}; 0))'\n",
        "  conclusion_table[1, i] = f'=индекс({search_range}; поискпоз(мин({search_range}); {search_range}; 0))'\n",
        "  conclusion_table[2, i] = f'=индекс({ccell_range(vercol, initial_row, vercol+pairs_number-1, initial_row)}; поискпоз(макс({search_range}); {search_range}; 0))'\n",
        "  conclusion_table[3, i] = f'=индекс({search_range}; поискпоз(макс({search_range}); {search_range}; 0))'\n",
        "  search_range = ccell_range(vercol, verrow+1, vercol+pairs_number-1, verrow+1)\n",
        "  conclusion_table[4, i] = f'=индекс({ccell_range(vercol, initial_row, vercol+pairs_number-1, initial_row)}; поискпоз(макс({search_range}); {search_range}; 0))'\n",
        "  conclusion_table[5, i] = f'=индекс({search_range}; поискпоз(макс({search_range}); {search_range}; 0))'\n",
        "  conclusion_table[6, i] = f'=индекс({ccell_range(vercol, initial_row, vercol+pairs_number-1, initial_row)}; поискпоз(мин({search_range}); {search_range}; 0))'\n",
        "  conclusion_table[7, i] = f'=индекс({search_range}; поискпоз(мин({search_range}); {search_range}; 0))'\n",
        "  verrow += coef_number + sample_number + param_number + empty_str_number + 1\n",
        "conclusion_table = np.append([name_of_properties], conclusion_table, axis=0)\n",
        "conclusion_table = np.append(titles, conclusion_table, axis=1)\n",
        "conclusion_table = np.transpose(conclusion_table)\n",
        "worksheet.update(conclusion_table.tolist(), ccell(column, row),value_input_option='USER_ENTERED')"
      ],
      "metadata": {
        "colab": {
          "base_uri": "https://localhost:8080/"
        },
        "id": "sK92fiu2ARb-",
        "outputId": "c26a96f7-e295-406e-eaa5-9fd5fc5a6b47"
      },
      "execution_count": 118,
      "outputs": [
        {
          "output_type": "execute_result",
          "data": {
            "text/plain": [
              "{'spreadsheetId': '11l7Sza1nFuHxiXXTHJVsU8bdkDkLCwuAts_4MVgmZjk',\n",
              " 'updatedRange': \"'1d v2'!T16:AB24\",\n",
              " 'updatedRows': 9,\n",
              " 'updatedColumns': 9,\n",
              " 'updatedCells': 81}"
            ]
          },
          "metadata": {},
          "execution_count": 118
        }
      ]
    },
    {
      "cell_type": "markdown",
      "source": [
        "##\"Полезный\" мусор\n"
      ],
      "metadata": {
        "id": "AEnzqbgjF57m"
      }
    },
    {
      "cell_type": "code",
      "source": [
        "subrow = 2\n",
        "subcol = 10\n",
        "row = 2\n",
        "column = 2\n",
        "worksheet.update([name_of_properties.tolist()], ccell(column, row-1))\n",
        "for i in range(pairs.shape[0]):\n",
        "  print(f'\\nОбучение SVR по индексам {name_of_indices[pairs[i, 0]]} и {name_of_indices[pairs[i, 1]]}\\n')\n",
        "  grid_search = GridSearchCV(svr, param_grid, cv=5, scoring='neg_mean_squared_error', verbose=1, n_jobs=-1)\n",
        "  pair_of_indices = np.append([indices_train_scaled[:, pairs[i, 0]]], [indices_train_scaled[:, pairs[i, 1]]], axis=0).T\n",
        "  title = np.array([[\"C\"], [\"epsilon\"], [\"MSE\"], [\"a0\"], [name_of_indices[pairs[i, 0]]], [name_of_indices[pairs[i, 1]]]])\n",
        "  iteration = np.empty_like(title)\n",
        "  for j in range(properties_train.shape[1]):\n",
        "    print(f\"Обучение SVR по свойству {name_of_properties[j]}...\")\n",
        "    grid_search.fit(pair_of_indices, properties_train_scaled[:, j])\n",
        "    coefficients = grid_search.best_estimator_.coef_.ravel()\n",
        "    intercept = grid_search.best_estimator_.intercept_\n",
        "    print(f\"Коэффициенты: {coefficients}\")\n",
        "    print(f\"Свободный член: {intercept}\")\n",
        "    subiteration = np.array(np.array(list(grid_search.best_params_.values())[0:2]).reshape(-1, 1))\n",
        "    subiteration = np.append(subiteration, [[np.round(grid_search.best_score_, 4)]], axis=0)\n",
        "    subiteration = np.append(subiteration, np.round(np.array([grid_search.best_estimator_.intercept_]), 6), axis=0)\n",
        "    subiteration = np.append(subiteration, np.round(grid_search.best_estimator_.coef_.reshape(-1, 1), 6), axis=0)\n",
        "    iteration = np.hstack((iteration, subiteration))\n",
        "  iteration = np.delete(iteration, 0, axis=1)\n",
        "  worksheet.update(title.tolist(), ccell(column-1, row))\n",
        "  worksheet.update(iteration.tolist(), ccell(column, row), value_input_option='USER_ENTERED')\n",
        "  row += title.shape[0]"
      ],
      "metadata": {
        "id": "R0kM3fUUF6BW"
      },
      "execution_count": null,
      "outputs": []
    },
    {
      "cell_type": "markdown",
      "source": [
        "8D"
      ],
      "metadata": {
        "id": "oGBZlIHLiVOf"
      }
    },
    {
      "cell_type": "code",
      "source": [
        "subrow = 2\n",
        "subcol = 10\n",
        "row = 2 + 14\n",
        "column = 2\n",
        "worksheet.update([name_of_properties.tolist()], ccell(column, row-1))\n",
        "title = np.array([[\"C\"], [\"epsilon\"], [\"MSE\"], [\"a0\"]])\n",
        "title = np.append(title, name_of_indices.reshape(-1, 1), axis=0)\n",
        "worksheet.update(title.tolist(), ccell(column-1, row))\n",
        "for i in range(properties_train.shape[1]):\n",
        "  print(f\"\\nОбучение SVR по свойству {name_of_properties[i]}...\\n\")\n",
        "  grid_search = GridSearchCV(svr, param_grid, cv=5, scoring='neg_mean_squared_error', verbose=0, n_jobs=-1)\n",
        "  grid_search.fit(indices_train_scaled, properties_train_scaled[:, i])\n",
        "  coefficients = grid_search.best_estimator_.coef_.ravel()\n",
        "  intercept = grid_search.best_estimator_.intercept_\n",
        "  print(f\"Коэффициент: {coefficients}\")\n",
        "  print(f\"Свободный член: {intercept}\")\n",
        "  coefficients = (coefficients / range_indices) * range_properties[i]\n",
        "  intercept = min_properties[i] + grid_search.best_estimator_.intercept_[0] * range_properties[i] - np.sum(coefficients * min_indices)\n",
        "  print(f'Коэффициент после обработки: {coefficients}')\n",
        "  print(f'Свободный член после обработки: {intercept}')\n",
        "  iteration = np.array(np.array(list(grid_search.best_params_.values())[0:2]).reshape(-1, 1))\n",
        "  iteration = np.append(iteration, [[np.round(grid_search.best_score_, 4)]], axis=0)\n",
        "  iteration = np.append(iteration, np.round(np.array([intercept]), 6).reshape(1, 1), axis=0)\n",
        "  iteration = np.append(iteration, np.round(coefficients.reshape(-1, 1), 6), axis=0)\n",
        "  worksheet.update(iteration.tolist(), f'{calculate_column(column)}{row}', value_input_option='USER_ENTERED')\n",
        "  column += 1"
      ],
      "metadata": {
        "id": "kYvFmR_wiVsj"
      },
      "execution_count": null,
      "outputs": []
    },
    {
      "cell_type": "markdown",
      "source": [
        "###Версии со стандартной нормализацией\n"
      ],
      "metadata": {
        "id": "RKw8aOtN6-20"
      }
    },
    {
      "cell_type": "code",
      "source": [
        "indices_scaler = StandardScaler()\n",
        "properties_scaler = StandardScaler()\n",
        "indices_train, indices_test, properties_train, properties_test = train_test_split(indices, properties, test_size=0.2, shuffle=False)\n",
        "indices_train_scaled = indices_scaler.fit_transform(indices_train)\n",
        "indices_test_scaled =  indices_scaler.transform(indices_test)\n",
        "properties_train_scaled = properties_scaler.fit_transform(properties_train)\n",
        "properties_test_scaled =  properties_scaler.transform(properties_test)\n",
        "std_indices = indices_scaler.scale_\n",
        "mean_indices = indices_scaler.mean_\n",
        "std_properties = properties_scaler.scale_\n",
        "mean_properties = properties_scaler.mean_\n",
        "pairs = generate_unique_pairs(np.arange(len(name_of_indices))).astype(int)\n",
        "print(f'Среднее по индексам: \\n{mean_indices}')\n",
        "print(f'Стандартное по индексам: \\n{std_indices}')\n",
        "print(f'Среднее по Свойствам: \\n{mean_properties}')\n",
        "print(f'Стандартное по Свойствам: \\n{std_properties}')\n",
        "\n",
        "worksheet.update(indices_train_scaled.tolist(), 'k22')\n",
        "worksheet.update(properties_train_scaled.tolist(), 'k35')"
      ],
      "metadata": {
        "id": "UMRS6tqg6c5S",
        "colab": {
          "base_uri": "https://localhost:8080/"
        },
        "outputId": "288f5fc7-a6d7-454b-f360-e5bd8ab29b8f"
      },
      "execution_count": null,
      "outputs": [
        {
          "output_type": "stream",
          "name": "stdout",
          "text": [
            "Среднее по индексам: \n",
            "[  26.07666667   14.72        302.91666667  910.58333333    5.35416667\n",
            "  149.27416667 3744.83333333    4.85416667]\n",
            "Стандартное по индексам: \n",
            "[1.22210824e+01 6.33377586e+00 1.54977664e+02 5.04345857e+02\n",
            " 2.50163100e+00 7.66757092e+01 2.08222160e+03 2.02681383e+00]\n",
            "Среднее по Свойствам: \n",
            "[537.85583333 185.54166667 287.1         88.38333333  90.61666667\n",
            "  35.91666667  60.14166667 254.325     ]\n",
            "Стандартное по Свойствам: \n",
            "[199.82609554  42.57222213 115.19037865  28.22297626  39.25919921\n",
            "  15.56833503  18.29072891 103.90360216]\n"
          ]
        },
        {
          "output_type": "execute_result",
          "data": {
            "text/plain": [
              "{'spreadsheetId': '1DPg6_La4imPZVX83Jqd-5U9pd7AGN5j_w8GSd9TlmWk',\n",
              " 'updatedRange': \"'test 13\\\\'!K35:R46\",\n",
              " 'updatedRows': 12,\n",
              " 'updatedColumns': 8,\n",
              " 'updatedCells': 96}"
            ]
          },
          "metadata": {},
          "execution_count": 41
        }
      ]
    },
    {
      "cell_type": "code",
      "source": [
        "subrow = 2\n",
        "subcol = 10\n",
        "row = 2\n",
        "column = 2\n",
        "\n",
        "worksheet.update([name_of_properties.tolist()], ccell(column, row-1))\n",
        "for i in range(pairs.shape[0]):\n",
        "  print(f'Обучение SVR по индекксам {name_of_indices[pairs[i, 0]]} и {name_of_indices[pairs[i, 1]]}')\n",
        "  grid_search = GridSearchCV(svr, param_grid, cv=5, scoring='neg_mean_squared_error', verbose=1, n_jobs=-1)\n",
        "  pair_of_indices = np.append([indices_train_scaled[:, pairs[i, 0]]], [indices_train_scaled[:, pairs[i, 1]]], axis=0).T\n",
        "  title = np.array([[\"C\"], [\"epsilon\"], [\"MSE\"], [\"a0\"], [name_of_indices[pairs[i, 0]]], [name_of_indices[pairs[i, 1]]]])\n",
        "  iteration = np.empty_like(title)\n",
        "  for j in range(properties_train.shape[1]):\n",
        "    print(f\"Обучение SVR по свойству {name_of_properties[j]}...\")\n",
        "    grid_search.fit(pair_of_indices, properties_train_scaled[:, j])\n",
        "    coefficients = np.array([])\n",
        "    mean_of_pair_indices = np.array([])\n",
        "    for k in range(pair_of_indices.shape[1]):\n",
        "      coefficients = np.append(coefficients, (grid_search.best_estimator_.coef_[0, k] / std_indices[pairs[i, k]]) * std_properties[j])\n",
        "      mean_of_pair_indices = np.append(mean_of_pair_indices, mean_indices[pairs[i, k]])\n",
        "    intercept = (grid_search.best_estimator_.intercept_[0] * std_properties[j]) + mean_properties[j] - np.sum(coefficients * mean_of_pair_indices)\n",
        "    subiteration = np.array(np.array(list(grid_search.best_params_.values())[0:2]).reshape(-1, 1))\n",
        "    subiteration = np.append(subiteration, [[np.round(grid_search.best_score_, 4)]], axis=0)\n",
        "    subiteration = np.append(subiteration, np.round(coefficients.reshape(-1, 1), 6), axis=0)\n",
        "    subiteration = np.append(subiteration, np.round(np.array([intercept]), 6).reshape(-1, 1), axis=0) # Reshape intercept to 2D\n",
        "    iteration = np.hstack((iteration, subiteration))\n",
        "  iteration = np.delete(iteration, 0, axis=1)\n",
        "  worksheet.update(title.tolist(), ccell(column-1, row))\n",
        "  worksheet.update(iteration.tolist(), ccell(column, row), value_input_option='USER_ENTERED')\n",
        "  row += title.shape[0]"
      ],
      "metadata": {
        "id": "a4JgffczrHLX"
      },
      "execution_count": null,
      "outputs": []
    },
    {
      "cell_type": "markdown",
      "source": [
        "Коэффициенты скалированные"
      ],
      "metadata": {
        "id": "Bj7V0lQfwSD7"
      }
    },
    {
      "cell_type": "code",
      "source": [
        "subrow = 2\n",
        "subcol = 10\n",
        "row = 2\n",
        "column = 2\n",
        "worksheet.update([name_of_properties.tolist()], ccell(column, row-1))\n",
        "for i in range(pairs.shape[0]):\n",
        "  print(f'Обучение SVR по индекксам {name_of_indices[pairs[i, 0]]} и {name_of_indices[pairs[i, 1]]}')\n",
        "  grid_search = GridSearchCV(svr, param_grid, cv=5, scoring='neg_mean_squared_error', verbose=1, n_jobs=-1)\n",
        "  pair_of_indices = np.append([indices_train_scaled[:, pairs[i, 0]]], [indices_train_scaled[:, pairs[i, 1]]], axis=0).T\n",
        "  title = np.array([[\"C\"], [\"epsilon\"], [\"MSE\"], [\"a0\"], [name_of_indices[pairs[i, 0]]], [name_of_indices[pairs[i, 1]]]])\n",
        "  iteration = np.empty_like(title)\n",
        "  for j in range(properties_train.shape[1]):\n",
        "    print(f\"Обучение SVR по свойству {name_of_properties[j]}...\")\n",
        "    grid_search.fit(pair_of_indices, properties_train_scaled[:, j])\n",
        "    subiteration = np.array(np.array(list(grid_search.best_params_.values())[0:2]).reshape(-1, 1))\n",
        "    subiteration = np.append(subiteration, [[np.round(grid_search.best_score_, 4)]], axis=0)\n",
        "    subiteration = np.append(subiteration, np.round(np.array([grid_search.best_estimator_.intercept_]), 6), axis=0)\n",
        "    subiteration = np.append(subiteration, np.round(grid_search.best_estimator_.coef_.reshape(-1, 1), 6), axis=0)\n",
        "    iteration = np.hstack((iteration, subiteration))\n",
        "  iteration = np.delete(iteration, 0, axis=1)\n",
        "  worksheet.update(title.tolist(), ccell(column-1, row))\n",
        "  worksheet.update(iteration.tolist(), ccell(column, row), value_input_option='USER_ENTERED')\n",
        "  row += title.shape[0]"
      ],
      "metadata": {
        "id": "q9hnRJsbv8I4"
      },
      "execution_count": null,
      "outputs": []
    },
    {
      "cell_type": "markdown",
      "source": [
        "1d вариация\n"
      ],
      "metadata": {
        "id": "EZ8PfPNBjwcJ"
      }
    },
    {
      "cell_type": "code",
      "source": [
        "subrow = 2\n",
        "subcol = 10\n",
        "row = 2\n",
        "column = 2\n",
        "for i in range(properties_train.shape[1]):\n",
        "  print(f\"Training SVR for property {name_of_properties[i]}...\")\n",
        "  title = np.array([[f\"{name_of_properties[i]}\"], [\"C\"], [\"epsilon\"], [\"gamma\"], [\"MSE\"], [\"a0\"], [\"a1\"]])\n",
        "  worksheet.update(title.tolist(), f'{calculate_column(column-1)}{row}')\n",
        "  worksheet.update_acell(f'{calculate_column(subcol)}{subrow}', f'{name_of_properties[i]}')\n",
        "  iteration = np.empty_like(title)\n",
        "  for j in range(indices_train.shape[1]):\n",
        "    print(f\"By molecular indice {name_of_indices[j]}...\")\n",
        "    grid_search = GridSearchCV(svr, param_grid, cv=5, scoring='neg_mean_squared_error', verbose=0, n_jobs=-1)\n",
        "    grid_search.fit(indices_train_scaled[:, j].reshape(-1, 1), properties_train_scaled[:, i])\n",
        "    coefficients = (grid_search.best_estimator_.coef_[0, 0] / std_indices[j]) * std_properties[i]\n",
        "    intercept = (grid_search.best_estimator_.intercept_[0] * std_properties[i]) + mean_properties[i] - np.sum(coefficients * mean_indices[j])\n",
        "    subiteration = np.array([[\"X\"]])\n",
        "    subiteration = np.append(subiteration, np.array(list(grid_search.best_params_.values())[0:3]).reshape(-1, 1), axis=0)\n",
        "    subiteration = np.append(subiteration, [[np.round(grid_search.best_score_, 4)]], axis=0)\n",
        "    subiteration = np.append(subiteration, np.round(np.array([grid_search.best_estimator_.intercept_]), 6), axis=0)\n",
        "    subiteration = np.append(subiteration, np.round(grid_search.best_estimator_.coef_, 6), axis=0)\n",
        "    iteration = np.hstack((iteration, subiteration))\n",
        "  iteration = np.delete(iteration, 0, axis=1)\n",
        "  worksheet.update_acell(f'{calculate_column(subcol+1)}{subrow}', f'=ИНДЕКС(b1:i1, Поискпоз(макс({calculate_column(column)}{row+4}:{calculate_column(column+iteration.shape[1]-1)}{row+4}), {calculate_column(column)}{row+4}:{calculate_column(column+iteration.shape[1]-1)}{row+4}, 0))')\n",
        "  subrow += 1\n",
        "  worksheet.update(iteration.tolist(), f'{calculate_column(column)}{row}', value_input_option='USER_ENTERED')\n",
        "  row += title.shape[0]"
      ],
      "metadata": {
        "id": "6VFz5kNlPWo2"
      },
      "execution_count": null,
      "outputs": []
    },
    {
      "cell_type": "code",
      "source": [
        "param_grid = {\n",
        "    'kernel': ['linear'],\n",
        "    'C':[0.01, 0.1, 1, 10, 100, 1000],\n",
        "    'gamma': ['scale', 'auto', 0.001, 0.01, 0.1, 1],\n",
        "    'epsilon': [0.01, 0.1, 0.2, 0.5]\n",
        "    }"
      ],
      "metadata": {
        "id": "hP6nwgZpV6A9"
      },
      "execution_count": null,
      "outputs": []
    }
  ],
  "metadata": {
    "colab": {
      "provenance": [],
      "collapsed_sections": [
        "Rjy_0yS4dpuF",
        "-2BzGpM3sZ0M",
        "jLTNQcqa2Zhq"
      ],
      "include_colab_link": true
    },
    "kernelspec": {
      "display_name": "Python 3",
      "name": "python3"
    },
    "language_info": {
      "name": "python"
    }
  },
  "nbformat": 4,
  "nbformat_minor": 0
}